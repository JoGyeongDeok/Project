{
  "nbformat": 4,
  "nbformat_minor": 0,
  "metadata": {
    "colab": {
      "provenance": [],
      "collapsed_sections": [],
      "authorship_tag": "ABX9TyPo+vhEw+0wBxfpTtIecNww",
      "include_colab_link": true
    },
    "kernelspec": {
      "display_name": "Python 3",
      "name": "python3"
    },
    "language_info": {
      "name": "python"
    }
  },
  "cells": [
    {
      "cell_type": "markdown",
      "metadata": {
        "id": "view-in-github",
        "colab_type": "text"
      },
      "source": [
        "<a href=\"https://colab.research.google.com/github/JoGyeongDeok/Project/blob/main/2021_6_25_Artificial_Intelligence_Bit_Trader_Competition_Season_3.ipynb\" target=\"_parent\"><img src=\"https://colab.research.google.com/assets/colab-badge.svg\" alt=\"Open In Colab\"/></a>"
      ]
    },
    {
      "cell_type": "markdown",
      "source": [
        "## 1.Library & Data Load"
      ],
      "metadata": {
        "id": "ACLYhnHbQA8W"
      }
    },
    {
      "cell_type": "code",
      "metadata": {
        "colab": {
          "base_uri": "https://localhost:8080/"
        },
        "id": "8TLfKUqNPTtg",
        "outputId": "771ceafd-2f18-4e82-a4db-23094566989a"
      },
      "source": [
        "from google.colab import drive\n",
        "drive.mount('/content/drive')"
      ],
      "execution_count": null,
      "outputs": [
        {
          "output_type": "stream",
          "text": [
            "Mounted at /content/drive\n"
          ],
          "name": "stdout"
        }
      ]
    },
    {
      "cell_type": "code",
      "metadata": {
        "id": "aYYZzIl0PUEl"
      },
      "source": [
        "path='/content/drive/MyDrive/DACON/Artificial Intelligence Bit Trader Competition Season 3'"
      ],
      "execution_count": null,
      "outputs": []
    },
    {
      "cell_type": "code",
      "metadata": {
        "colab": {
          "base_uri": "https://localhost:8080/"
        },
        "id": "7_PdcfZBPb0i",
        "outputId": "e49cdbc7-c42f-43c1-82e2-47fe1b0570ae"
      },
      "source": [
        "# ARIMA 모델을 사용하기 위해 statsmodels 제일 최신 버전을 설치합니다.\n",
        "!pip install statsmodels==0.12.2"
      ],
      "execution_count": null,
      "outputs": [
        {
          "output_type": "stream",
          "text": [
            "Collecting statsmodels==0.12.2\n",
            "\u001b[?25l  Downloading https://files.pythonhosted.org/packages/da/69/8eef30a6237c54f3c0b524140e2975f4b1eea3489b45eb3339574fc8acee/statsmodels-0.12.2-cp37-cp37m-manylinux1_x86_64.whl (9.5MB)\n",
            "\u001b[K     |████████████████████████████████| 9.5MB 7.0MB/s \n",
            "\u001b[?25hRequirement already satisfied: pandas>=0.21 in /usr/local/lib/python3.7/dist-packages (from statsmodels==0.12.2) (1.1.5)\n",
            "Requirement already satisfied: patsy>=0.5 in /usr/local/lib/python3.7/dist-packages (from statsmodels==0.12.2) (0.5.1)\n",
            "Requirement already satisfied: numpy>=1.15 in /usr/local/lib/python3.7/dist-packages (from statsmodels==0.12.2) (1.19.5)\n",
            "Requirement already satisfied: scipy>=1.1 in /usr/local/lib/python3.7/dist-packages (from statsmodels==0.12.2) (1.4.1)\n",
            "Requirement already satisfied: pytz>=2017.2 in /usr/local/lib/python3.7/dist-packages (from pandas>=0.21->statsmodels==0.12.2) (2018.9)\n",
            "Requirement already satisfied: python-dateutil>=2.7.3 in /usr/local/lib/python3.7/dist-packages (from pandas>=0.21->statsmodels==0.12.2) (2.8.1)\n",
            "Requirement already satisfied: six in /usr/local/lib/python3.7/dist-packages (from patsy>=0.5->statsmodels==0.12.2) (1.15.0)\n",
            "Installing collected packages: statsmodels\n",
            "  Found existing installation: statsmodels 0.10.2\n",
            "    Uninstalling statsmodels-0.10.2:\n",
            "      Successfully uninstalled statsmodels-0.10.2\n",
            "Successfully installed statsmodels-0.12.2\n"
          ],
          "name": "stdout"
        }
      ]
    },
    {
      "cell_type": "code",
      "metadata": {
        "id": "zo_jzWZcPcKu"
      },
      "source": [
        "import pandas as pd\n",
        "import numpy as np\n",
        "import matplotlib.pyplot as plt\n",
        "%matplotlib inline\n",
        "import seaborn as sns\n",
        "from tqdm.auto import tqdm\n",
        "from sklearn import preprocessing\n",
        "import warnings\n",
        "warnings.filterwarnings('ignore')\n",
        "from statsmodels.tsa.arima_model import ARIMA"
      ],
      "execution_count": null,
      "outputs": []
    },
    {
      "cell_type": "code",
      "metadata": {
        "id": "27uy-ZArPiK3"
      },
      "source": [
        "train_x = pd.read_csv(path  + \"/train_x_df.csv\")\n",
        "train_y = pd.read_csv(path  + \"/train_y_df.csv\")\n",
        "test_x = pd.read_csv(path  + \"/test_x_df.csv\")"
      ],
      "execution_count": null,
      "outputs": []
    },
    {
      "cell_type": "markdown",
      "source": [
        "## 2. Data Preprocess"
      ],
      "metadata": {
        "id": "3v10QuyfQGdd"
      }
    },
    {
      "cell_type": "code",
      "metadata": {
        "id": "3vBe874oPqSg"
      },
      "source": [
        "# train_x, train_y 를 sample_id 기준 하나로 합쳐서, train_z를 만들어줍니다.\n",
        "# 사실 train x, y를 합치지 않아도 괜찮습니다만, 연속되는 변수 vwap, rsi, 등등을 만들기 위해 x, y를 합치고, 변수를 생성하고, x, y를 다시 분리하는 작업을 진행했습니다.\n",
        "train_x[\"is_x\"] = 1\n",
        "train_y[\"is_x\"] = 0\n",
        "train_x_y = [train_x, train_y]\n",
        "train_list = [x.set_index('sample_id') for x in train_x_y]\n",
        "\n",
        "train_z = pd.concat(train_list, axis=0).rename_axis('sample_id').reset_index()"
      ],
      "execution_count": null,
      "outputs": []
    },
    {
      "cell_type": "code",
      "metadata": {
        "id": "HEWrSC37Prhu"
      },
      "source": [
        "# vwap과, open에서 vwap을 뺀 값인 diff를 계산합니다.\n",
        "def make_vwap_and_diff(df):\n",
        "\n",
        "    # 1) VAWP 계산\n",
        "\n",
        "    # 일반적인 VWAP 공식에서 volume을 그대로 사용하지만, 여러번의 시도를 통해 tb_base_av 와 volume을 더했을 때 가장 좋은 volume이 나온다고 판단하여 사용하였습니다.\n",
        "    df[\"volume_tb_base_av\"] = df[\"tb_base_av\"] + df[\"volume\"]\n",
        "\n",
        "    # close(종가), high(고가), low(저가) 3개의 평균을 대표가격으로 사용하였습니다.\n",
        "    df['volume_price'] = ((df['close'] + df['high'] + df['low']) / 3) * df['volume_tb_base_av']\n",
        "\n",
        "    # 대표가격의 합을 구해줍니다.\n",
        "    df['volume_price_sum'] = df.groupby(['sample_id'])['volume_price'].apply(lambda x: x.cumsum())\n",
        "\n",
        "    # volume의 합을 구해줍니다.\n",
        "    df['volume_sum'] = df.groupby(['sample_id'])['volume_tb_base_av'].apply(lambda x: x.cumsum())\n",
        "\n",
        "    # 2 변수의 나눗셈을 통해 vwap을 계산해줍니다.\n",
        "    df['vwap'] = df['volume_price_sum'] / df['volume_sum']\n",
        "\n",
        "    # 2) diff 계산\n",
        "    # 매도수익이 open을 통해 이루어진다고 알려져있기 때문에 open에서 vwap을 뺀 값을 diff로 사용했습니다.\n",
        "    df[\"diff\"] = df[\"open\"] - df[\"vwap\"]\n",
        "\n",
        "    return df"
      ],
      "execution_count": null,
      "outputs": []
    },
    {
      "cell_type": "code",
      "metadata": {
        "id": "PsrbTTIoPuoU"
      },
      "source": [
        "# 데이터 프레임에서 sample_id 에 따른 open을 반환하는 함수입니다.\n",
        "def get_open(df,sample_id):\n",
        "    \n",
        "    return df[df[\"sample_id\"] == sample_id]['open'].values"
      ],
      "execution_count": null,
      "outputs": []
    },
    {
      "cell_type": "code",
      "metadata": {
        "id": "fdpA-MDuPwO3"
      },
      "source": [
        "# 데이터 프레임에서 sample_id 에 따른 VWAP을 반환하는 함수입니다.\n",
        "def get_vwap(df,sample_id):\n",
        "    \n",
        "    return df[df[\"sample_id\"] == sample_id]['vwap'].values"
      ],
      "execution_count": null,
      "outputs": []
    },
    {
      "cell_type": "code",
      "metadata": {
        "id": "8Nn0a4lePxKH"
      },
      "source": [
        "# 데이터 프레임에서 sample_id 에 따른 diff 반환하는 함수입니다.\n",
        "def get_diff(df,sample_id):\n",
        "    \n",
        "    return df[df[\"sample_id\"] == sample_id]['diff'].values"
      ],
      "execution_count": null,
      "outputs": []
    },
    {
      "cell_type": "code",
      "metadata": {
        "id": "tA-GQhDlPyMg"
      },
      "source": [
        "# 데이터 프레임에서 sample_id 에 따른 rsi 반환하는 함수입니다.\n",
        "def get_rsi(df,sample_id):\n",
        "    \n",
        "    return df[df[\"sample_id\"] == sample_id]['rsi'].values"
      ],
      "execution_count": null,
      "outputs": []
    },
    {
      "cell_type": "code",
      "metadata": {
        "id": "wOEeC4inPzJL"
      },
      "source": [
        "# 데이터 프레임에서 sample_id 에 따른 col_name 값을 반환하는 함수입니다.\n",
        "def get_series(df,sample_id, col_name):\n",
        "    return df[df[\"sample_id\"] == sample_id][col_name].values"
      ],
      "execution_count": null,
      "outputs": []
    },
    {
      "cell_type": "code",
      "metadata": {
        "id": "xFI8SNTcP0QP"
      },
      "source": [
        "# RSI를 만들어줍니다.\n",
        "# 상승분, 하락분의 평균은 일반적으로 14일을 기준으로 생성합니다.\n",
        "def make_rsi(df, period=14):\n",
        "\n",
        "    # 전일 대비 상승분을 계산해줍니다. - 상승분이 0보다 크면 상승분을 넣고, 0보다 작거나 같으면 0을 넣어줍니다.\n",
        "    df[\"U\"] = np.where(df.groupby([\"sample_id\"])[\"open\"].diff(1) > 0, df.groupby([\"sample_id\"])[\"open\"].diff(1), 0)\n",
        "\n",
        "    # 전일 대비 하락분을 계산해줍니다. - 하락분이 0보다 작으면 하락분 * -1을 넣고, 0보다 크거나 같으면 0을 넣어줍니다.\n",
        "    df[\"D\"] = np.where(df.groupby([\"sample_id\"])[\"open\"].diff(1) < 0, df.groupby([\"sample_id\"])[\"open\"].diff(1) *(-1), 0)\n",
        "\n",
        "\n",
        "    # 전일 대비 상승분의 평균을 계산해줍니다.\n",
        "    ud_df = pd.DataFrame()\n",
        "    ud_df[\"sample_id\"] = df[\"sample_id\"]\n",
        "    ud_df[\"U\"] = df[\"U\"]\n",
        "    ud_df[\"D\"] = df[\"D\"]\n",
        "\n",
        "    # 상승분의 14일 평균을 구해줍니다.\n",
        "    df[\"AU\"] = ud_df.groupby([\"sample_id\"])[\"U\"].rolling( window=period, min_periods=period ).mean().reset_index()[\"U\"]\n",
        "    # 하락분의 14일 평균을 구해줍니다.\n",
        "    df[\"AD\"] = ud_df.groupby([\"sample_id\"])[\"D\"].rolling( window=period, min_periods=period ).mean().reset_index()[\"D\"]\n",
        "\n",
        "\n",
        "    # AU / (AU + AD) 의 백분율을 RSI 로 계산해줍니다.\n",
        "    RSI = df[\"AU\"] / (df[\"AU\"] + df[\"AD\"]) * 100\n",
        "    \n",
        "    df[\"rsi\"] = RSI\n",
        "    \n",
        "    return df"
      ],
      "execution_count": null,
      "outputs": []
    },
    {
      "cell_type": "code",
      "metadata": {
        "id": "RNkDmYU-P1li"
      },
      "source": [
        "# 1. train, test의 sample_id 목록을 저장합니다.\n",
        "TRAIN_SAMPLE_ID_LIST = train_x[\"sample_id\"].unique().tolist()\n",
        "TEST_SAMPLE_ID_LIST = test_x[\"sample_id\"].unique().tolist()"
      ],
      "execution_count": null,
      "outputs": []
    },
    {
      "cell_type": "code",
      "metadata": {
        "id": "RSf8L6CHP2op"
      },
      "source": [
        "# 2. VWAP, diff 를 만들어줍니다.\n",
        "test_x = make_vwap_and_diff(test_x)\n",
        "train_z = make_vwap_and_diff(train_z)"
      ],
      "execution_count": null,
      "outputs": []
    },
    {
      "cell_type": "code",
      "metadata": {
        "id": "BueyDRJIP3zZ"
      },
      "source": [
        "# 3. rsi 를 만들어줍니다.\n",
        "test_x = make_rsi(test_x, 14)\n",
        "train_z = make_rsi(train_z, 14)"
      ],
      "execution_count": null,
      "outputs": []
    },
    {
      "cell_type": "code",
      "metadata": {
        "id": "QZzvrrwXP4yK"
      },
      "source": [
        "# 4. train x와 y를 분리합니다.\n",
        "train_x = train_z[train_z[\"is_x\"] == 1]\n",
        "train_y = train_z[train_z[\"is_x\"] == 0]\n",
        "\n",
        "split_drop_cols = [\"is_x\"]\n",
        "\n",
        "train_x = train_x.drop(columns=split_drop_cols, axis=1)\n",
        "train_y = train_y.drop(columns=split_drop_cols, axis=1)"
      ],
      "execution_count": null,
      "outputs": []
    },
    {
      "cell_type": "markdown",
      "source": [
        "## 3. 모델링"
      ],
      "metadata": {
        "id": "CKGoEtvpQWZe"
      }
    },
    {
      "cell_type": "code",
      "metadata": {
        "id": "vfhfbIkGP55h"
      },
      "source": [
        "result = []\n",
        "\n",
        "for sample_id in tqdm(TEST_SAMPLE_ID_LIST):\n",
        "\n",
        "    # 1. 데이터 로드\n",
        "    # 1) diff - 학습에 사용\n",
        "    diff_x = get_diff(test_x, sample_id)\n",
        "\n",
        "    # 2) vwap - 보조 지표로 사용\n",
        "    vwap_series = get_vwap(test_x, sample_id)\n",
        "\n",
        "    # 3) rsi - 보조 지표로 사용\n",
        "    rsi_series = get_rsi(test_x, sample_id)\n",
        "\n",
        "\n",
        "\n",
        "    # 2. ARIMA\n",
        "    # 1) 모델 정의\n",
        "    ARIMA_MODEL = {}\n",
        "    ARIMA_MODEL_FIT = {}\n",
        "\n",
        "    # 2) AR 모델 적용\n",
        "    try:\n",
        "      ARIMA_MODEL = ARIMA(diff_x, order = (4,0,1))\n",
        "      ARIMA_MODEL_FIT = ARIMA_MODEL.fit(trend = 'nc', full_output = True, disp = True)\n",
        "\n",
        "    # 3) 수렴하지 않을 경우 p d q 를 1, 1, 0으로 사용\n",
        "    except:\n",
        "      ARIMA_MODEL = ARIMA(diff_x, order = (1,1,0))\n",
        "      ARIMA_MODEL_FIT = ARIMA_MODEL.fit(trend = 'nc', full_output = True, disp = True)\n",
        "\n",
        "    # 4) ARIMA 예측\n",
        "    ARIMA_FORECAST  = ARIMA_MODEL_FIT.predict(1,120, typ='levels')\n",
        "\n",
        "\n",
        "\n",
        "    # 3. 데이처 처리\n",
        "    # 1) 최대 부분인 인덱스를 찾는데 해당 시점에 매도를 진행합니다.\n",
        "    sell_time = np.argmax(ARIMA_FORECAST)\n",
        "\n",
        "    # 2) 최대값을 찾습니다.\n",
        "    max_val = np.max(ARIMA_FORECAST)\n",
        "    \n",
        "    # 3) vwap의 마지막 값을 가져옵니다.\n",
        "    vwap_last_val = vwap_series[1379]\n",
        "\n",
        "    rsi_last_val = rsi_series[1379]\n",
        "\n",
        "\n",
        "\n",
        "    # 4. 투자 전략\n",
        "    buy_quantity = 0\n",
        "\n",
        "    # 1) 최대값이 0 보다 크면 가격이 vwap 보다 크다는 의미로, 투자합니다.\n",
        "    if  max_val > 0:\n",
        "        buy_quantity = 1\n",
        "\n",
        "\n",
        "    # 2) 만약 vwap 마지막 값이, 1보다 크면 가격이 1보다 작다는 의미로 하향세이기 때문에 투자하지 않습니다.\n",
        "    if vwap_last_val > 0.8 and sell_time < 50:\n",
        "        buy_quantity = 0\n",
        "\n",
        "    # 3) 만약 rsi의 값이 65 보다 크면, 초과매수 상태로 판단하여 투자하지 않습니다.\n",
        "    if rsi_last_val > 65 and sell_time < 50:\n",
        "        buy_quantity = 0\n",
        "\n",
        "\n",
        "\n",
        "    # 5. 결과\n",
        "    result_list = [\n",
        "                   sample_id,\n",
        "                   buy_quantity,\n",
        "                   sell_time\n",
        "                  ]\n",
        "\n",
        "    result.append(result_list)"
      ],
      "execution_count": null,
      "outputs": []
    },
    {
      "cell_type": "code",
      "metadata": {
        "id": "LzlMZfQkP8Qb"
      },
      "source": [
        "submit_columns = [\n",
        "                  \"sample_id\", \n",
        "                  \"buy_quantity\", \n",
        "                  \"sell_time\"\n",
        "                  ]\n",
        "\n",
        "\n",
        "submit = pd.DataFrame(data=result, columns=submit_columns)"
      ],
      "execution_count": null,
      "outputs": []
    },
    {
      "cell_type": "code",
      "metadata": {
        "colab": {
          "base_uri": "https://localhost:8080/",
          "height": 360
        },
        "id": "ksbgFyYvP-WM",
        "outputId": "8c9c5579-c052-43e2-fb8f-4cb32a3e99cc"
      },
      "source": [
        "submit.head(10)"
      ],
      "execution_count": null,
      "outputs": [
        {
          "output_type": "execute_result",
          "data": {
            "text/html": [
              "<div>\n",
              "<style scoped>\n",
              "    .dataframe tbody tr th:only-of-type {\n",
              "        vertical-align: middle;\n",
              "    }\n",
              "\n",
              "    .dataframe tbody tr th {\n",
              "        vertical-align: top;\n",
              "    }\n",
              "\n",
              "    .dataframe thead th {\n",
              "        text-align: right;\n",
              "    }\n",
              "</style>\n",
              "<table border=\"1\" class=\"dataframe\">\n",
              "  <thead>\n",
              "    <tr style=\"text-align: right;\">\n",
              "      <th></th>\n",
              "      <th>sample_id</th>\n",
              "      <th>buy_quantity</th>\n",
              "      <th>sell_time</th>\n",
              "    </tr>\n",
              "  </thead>\n",
              "  <tbody>\n",
              "    <tr>\n",
              "      <th>0</th>\n",
              "      <td>7929</td>\n",
              "      <td>1</td>\n",
              "      <td>117</td>\n",
              "    </tr>\n",
              "    <tr>\n",
              "      <th>1</th>\n",
              "      <td>7930</td>\n",
              "      <td>0</td>\n",
              "      <td>48</td>\n",
              "    </tr>\n",
              "    <tr>\n",
              "      <th>2</th>\n",
              "      <td>7931</td>\n",
              "      <td>0</td>\n",
              "      <td>31</td>\n",
              "    </tr>\n",
              "    <tr>\n",
              "      <th>3</th>\n",
              "      <td>7932</td>\n",
              "      <td>0</td>\n",
              "      <td>22</td>\n",
              "    </tr>\n",
              "    <tr>\n",
              "      <th>4</th>\n",
              "      <td>7933</td>\n",
              "      <td>0</td>\n",
              "      <td>19</td>\n",
              "    </tr>\n",
              "    <tr>\n",
              "      <th>5</th>\n",
              "      <td>7934</td>\n",
              "      <td>1</td>\n",
              "      <td>116</td>\n",
              "    </tr>\n",
              "    <tr>\n",
              "      <th>6</th>\n",
              "      <td>7935</td>\n",
              "      <td>1</td>\n",
              "      <td>91</td>\n",
              "    </tr>\n",
              "    <tr>\n",
              "      <th>7</th>\n",
              "      <td>7936</td>\n",
              "      <td>1</td>\n",
              "      <td>119</td>\n",
              "    </tr>\n",
              "    <tr>\n",
              "      <th>8</th>\n",
              "      <td>7937</td>\n",
              "      <td>1</td>\n",
              "      <td>119</td>\n",
              "    </tr>\n",
              "    <tr>\n",
              "      <th>9</th>\n",
              "      <td>7938</td>\n",
              "      <td>1</td>\n",
              "      <td>61</td>\n",
              "    </tr>\n",
              "  </tbody>\n",
              "</table>\n",
              "</div>"
            ],
            "text/plain": [
              "   sample_id  buy_quantity  sell_time\n",
              "0       7929             1        117\n",
              "1       7930             0         48\n",
              "2       7931             0         31\n",
              "3       7932             0         22\n",
              "4       7933             0         19\n",
              "5       7934             1        116\n",
              "6       7935             1         91\n",
              "7       7936             1        119\n",
              "8       7937             1        119\n",
              "9       7938             1         61"
            ]
          },
          "metadata": {
            "tags": []
          },
          "execution_count": 42
        }
      ]
    },
    {
      "cell_type": "code",
      "metadata": {
        "colab": {
          "base_uri": "https://localhost:8080/"
        },
        "id": "hS-ZFSFOQCpN",
        "outputId": "ed6de105-3980-4788-b029-85c029c046ad"
      },
      "source": [
        "# 3. 투자 개수 확인\n",
        "submit[submit[\"buy_quantity\"] ==1].shape[0]"
      ],
      "execution_count": null,
      "outputs": [
        {
          "output_type": "execute_result",
          "data": {
            "text/plain": [
              "483"
            ]
          },
          "metadata": {
            "tags": []
          },
          "execution_count": 43
        }
      ]
    },
    {
      "cell_type": "code",
      "metadata": {
        "colab": {
          "base_uri": "https://localhost:8080/"
        },
        "id": "um89CtYCQBiZ",
        "outputId": "13db1037-efa6-4e34-91ae-be977a41e784"
      },
      "source": [
        "# 4. sell_time 50미만에서 구매하는 개수 확인\n",
        "cond1 = (submit[\"buy_quantity\"] ==1)\n",
        "cond2 = (submit[\"sell_time\"] < 60)\n",
        "\n",
        "submit[cond1 & cond2].shape[0]"
      ],
      "execution_count": null,
      "outputs": [
        {
          "output_type": "execute_result",
          "data": {
            "text/plain": [
              "59"
            ]
          },
          "metadata": {
            "tags": []
          },
          "execution_count": 50
        }
      ]
    },
    {
      "cell_type": "code",
      "metadata": {
        "id": "OpjpBW5xQFTx"
      },
      "source": [
        "submit.to_csv(path+\"/submission.csv\", index = False)"
      ],
      "execution_count": null,
      "outputs": []
    }
  ]
}