{
  "cells": [
    {
      "cell_type": "markdown",
      "metadata": {
        "id": "view-in-github",
        "colab_type": "text"
      },
      "source": [
        "<a href=\"https://colab.research.google.com/github/JoGyeongDeok/Project/blob/main/Dacon/2022_9_16_Samsung_AI_Challenge_(3D_Metrology).ipynb\" target=\"_parent\"><img src=\"https://colab.research.google.com/assets/colab-badge.svg\" alt=\"Open In Colab\"/></a>"
      ]
    },
    {
      "cell_type": "markdown",
      "source": [
        "# Samsung AI Challenge (3D Metrology)\n",
        "***https://dacon.io/competitions/official/235954/overview/description***"
      ],
      "metadata": {
        "id": "zL0N1deOYJdS"
      }
    },
    {
      "cell_type": "code",
      "execution_count": null,
      "metadata": {
        "colab": {
          "base_uri": "https://localhost:8080/"
        },
        "id": "K3DtfYNkKv0W",
        "outputId": "c680c0b5-0ad5-4fed-c236-0477903fa55e"
      },
      "outputs": [
        {
          "output_type": "stream",
          "name": "stdout",
          "text": [
            "Drive already mounted at /content/drive; to attempt to forcibly remount, call drive.mount(\"/content/drive\", force_remount=True).\n"
          ]
        }
      ],
      "source": [
        "from google.colab import drive\n",
        "drive.mount('/content/drive')"
      ]
    },
    {
      "cell_type": "code",
      "execution_count": null,
      "metadata": {
        "id": "-KDAazXjxqMY"
      },
      "outputs": [],
      "source": [
        "CFG = {\n",
        "    'WIDTH':48,\n",
        "    'HEIGHT':72,\n",
        "    'EPOCHS':60,\n",
        "    'LEARNING_RATE':1e-3,\n",
        "    'BATCH_SIZE':64,\n",
        "    'SEED':41\n",
        "}\n",
        "\n",
        "path= '/content/drive/MyDrive/DACON/Data/2022 Samsung AI Challenge (3D Metrology)'\n",
        "\n",
        "import zipfile\n",
        "zipfile.ZipFile(path+'.zip','r').extractall('/2022 Samsung AI Challenge (3D Metrology)')"
      ]
    },
    {
      "cell_type": "markdown",
      "metadata": {
        "id": "-61RMCb9w9W4"
      },
      "source": [
        "# Library"
      ]
    },
    {
      "cell_type": "code",
      "execution_count": null,
      "metadata": {
        "id": "MLEOqa2CLMCv"
      },
      "outputs": [],
      "source": [
        "import random\n",
        "import pandas as pd\n",
        "import numpy as np\n",
        "from sklearn.model_selection import train_test_split\n",
        "\n",
        "import matplotlib.pyplot as plt\n",
        "import os\n",
        "import glob\n",
        "import cv2\n",
        "from google.colab.patches import cv2_imshow\n",
        "\n",
        "import torch\n",
        "import torch.nn as nn\n",
        "import torch.optim as optim\n",
        "import torch.nn.functional as F\n",
        "from torch.utils.data import Dataset, DataLoader\n",
        "from torch import autograd\n",
        "\n",
        "import torchvision\n",
        "import torchvision.transforms as transforms\n",
        "import torchvision.models as models\n",
        "\n",
        "from tqdm.auto import tqdm\n",
        "from sklearn.metrics import mean_squared_error\n",
        "\n",
        "\n",
        "import warnings\n",
        "warnings.filterwarnings(action='ignore') \n",
        "\n",
        "from torch.autograd._functions import Resize"
      ]
    },
    {
      "cell_type": "code",
      "execution_count": null,
      "metadata": {
        "id": "RK0FOcNtL2fN"
      },
      "outputs": [],
      "source": [
        "device = torch.device('cuda') if torch.cuda.is_available() else torch.device('cpu')"
      ]
    },
    {
      "cell_type": "code",
      "execution_count": null,
      "metadata": {
        "id": "pNZ7u4vXLJ-d"
      },
      "outputs": [],
      "source": [
        "def seed_everything(seed):\n",
        "    random.seed(seed)\n",
        "    os.environ['PYTHONHASHSEED'] = str(seed)\n",
        "    np.random.seed(seed)\n",
        "    torch.manual_seed(seed)\n",
        "    torch.cuda.manual_seed(seed)\n",
        "    torch.backends.cudnn.deterministic = True\n",
        "    torch.backends.cudnn.benchmark = True\n",
        "\n",
        "seed_everything(CFG['SEED']) # Seed 고정"
      ]
    },
    {
      "cell_type": "code",
      "execution_count": null,
      "metadata": {
        "id": "CjZbFqnbgWlR"
      },
      "outputs": [],
      "source": [
        "# def get_key(path):\n",
        "#     names = path.split(\"/\")\n",
        "#     return f\"{names[-3].lower()}_{names[-2]}\"\n",
        "\n",
        "# df_depth = pd.read_csv(\"/2022 Samsung AI Challenge (3D Metrology)/train/average_depth.csv\")\n",
        "# table = {k: v for k, v in zip(df_depth[\"0\"].values, df_depth[\"1\"].values)}\n",
        "\n",
        "# files = glob.glob(\"/2022 Samsung AI Challenge (3D Metrology)/train/SEM/*/*/*.png\")\n",
        "# depth = [table[get_key(file)] for file in files]\n",
        "\n",
        "# df_out = pd.DataFrame()\n",
        "# df_out[\"path\"] = files\n",
        "# df_out[\"depth\"] = depth"
      ]
    },
    {
      "cell_type": "code",
      "execution_count": null,
      "metadata": {
        "id": "pTJYElRzMEDY"
      },
      "outputs": [],
      "source": [
        "simulation_sem_paths = sorted(glob.glob('/2022 Samsung AI Challenge (3D Metrology)/simulation_data/SEM/*/*/*.png'))\n",
        "simulation_depth_paths = sorted(glob.glob('/2022 Samsung AI Challenge (3D Metrology)/simulation_data/Depth/*/*/*.png')+glob.glob('/2022 Samsung AI Challenge (3D Metrology)/simulation_data/Depth/*/*/*.png'))\n",
        "test_sem_path_list = sorted(glob.glob('/2022 Samsung AI Challenge (3D Metrology)/test/SEM/*.png'))\n",
        "\n"
      ]
    },
    {
      "cell_type": "code",
      "execution_count": null,
      "metadata": {
        "id": "cyaMr-CIMFXI"
      },
      "outputs": [],
      "source": [
        "data_len = len(simulation_sem_paths) # == len(simulation_depth_paths)"
      ]
    },
    {
      "cell_type": "code",
      "execution_count": null,
      "metadata": {
        "colab": {
          "base_uri": "https://localhost:8080/"
        },
        "id": "-SPAWII8HVBJ",
        "outputId": "5ccc5486-027e-4872-bb92-058f85355f8c"
      },
      "outputs": [
        {
          "output_type": "stream",
          "name": "stdout",
          "text": [
            "173304\n",
            "173304\n"
          ]
        }
      ],
      "source": [
        "print(len(simulation_sem_paths))\n",
        "print(len(simulation_depth_paths))"
      ]
    },
    {
      "cell_type": "code",
      "execution_count": null,
      "metadata": {
        "id": "3Ub8WBlCpqz_"
      },
      "outputs": [],
      "source": [
        "train_transform = transforms.Compose([\n",
        "                    transforms.ToTensor(),\n",
        "                    # transforms.Normalize((0.485, 0.456, 0.406), (0.229, 0.224, 0.225))\n",
        "                    ])"
      ]
    },
    {
      "cell_type": "markdown",
      "metadata": {
        "id": "uAMWJXAWeXVz"
      },
      "source": [
        "#Edge"
      ]
    },
    {
      "cell_type": "code",
      "execution_count": null,
      "metadata": {
        "id": "NQXYyaS-5ot2"
      },
      "outputs": [],
      "source": [
        "depth_110 = sorted(glob.glob('/2022 Samsung AI Challenge (3D Metrology)/train/SEM/Depth_110/*/*'))\n",
        "depth_120 = sorted(glob.glob('/2022 Samsung AI Challenge (3D Metrology)/train/SEM/Depth_120/*/*'))\n",
        "depth_130 = sorted(glob.glob('/2022 Samsung AI Challenge (3D Metrology)/train/SEM/Depth_130/*/*'))\n",
        "depth_140 = sorted(glob.glob('/2022 Samsung AI Challenge (3D Metrology)/train/SEM/Depth_140/*/*'))#"
      ]
    },
    {
      "cell_type": "code",
      "execution_count": null,
      "metadata": {
        "id": "DVuZpGpV5rSl"
      },
      "outputs": [],
      "source": [
        "train_SEM_images = depth_110 + depth_120 + depth_130 + depth_140\n",
        "depth_label = np.concatenate([np.repeat(0, len(depth_110)), np.repeat(1, len(depth_120)), \n",
        "                        np.repeat(2, len(depth_130)), np.repeat(3, len(depth_140))])"
      ]
    },
    {
      "cell_type": "code",
      "execution_count": null,
      "metadata": {
        "id": "ErYA6Ohq5ryt"
      },
      "outputs": [],
      "source": [
        "class CustomDataset3(Dataset):\n",
        "    def __init__(self, sem_path_list, depth, transform):\n",
        "        self.sem_path_list = sem_path_list\n",
        "        self.depth = depth\n",
        "        self.transform = transform\n",
        "\n",
        "    def __len__(self):\n",
        "        return len(self.sem_path_list)\n",
        "\n",
        "    def __getitem__(self, idx):\n",
        "        sem_path = self.sem_path_list[idx]\n",
        "\n",
        "        sem_img = cv2.imread(sem_path, cv2.IMREAD_COLOR)\n",
        "        sem_img = self.transform(sem_img)\n",
        "\n",
        "\n",
        "        sem_img = sem_img / 255.\n",
        "        \n",
        "        if self.depth is not None:\n",
        "            depth_label = self.depth[idx]\n",
        "            return sem_img, depth_label\n",
        "\n",
        "        else:\n",
        "            return sem_img"
      ]
    },
    {
      "cell_type": "code",
      "execution_count": null,
      "metadata": {
        "id": "IUc316yD5sZv"
      },
      "outputs": [],
      "source": [
        "train_idx , valid_idx = train_test_split(range(len(train_SEM_images)), test_size = 0.2, random_state = 42)\n",
        "\n",
        "train_sem_paths = np.array(train_SEM_images)[train_idx]\n",
        "train_depth = np.array(depth_label)[train_idx]\n",
        "\n",
        "valid_sem_paths = np.array(train_SEM_images)[valid_idx]\n",
        "valid_depth = np.array(depth_label)[valid_idx]"
      ]
    },
    {
      "cell_type": "code",
      "execution_count": null,
      "metadata": {
        "id": "V9EcxGN15s9a"
      },
      "outputs": [],
      "source": [
        "train_dataset = CustomDataset3(train_sem_paths, train_depth, train_transform)\n",
        "train_loader = DataLoader(train_dataset, batch_size = 128, shuffle=True)\n",
        "\n",
        "valid_dataset = CustomDataset3(valid_sem_paths, valid_depth, train_transform)\n",
        "valid_loader = DataLoader(valid_dataset, batch_size=128, shuffle=False)\n",
        "\n",
        "test_dataset = CustomDataset3(test_sem_path_list, None, train_transform)\n",
        "test_loader = DataLoader(test_dataset, batch_size=128, shuffle=False)"
      ]
    },
    {
      "cell_type": "code",
      "execution_count": null,
      "metadata": {
        "id": "8_-m0Y565tou"
      },
      "outputs": [],
      "source": [
        "category_model = models.resnet101(pretrained=False).to(device)  # 모델 객체 생성\n",
        "category_model.fc = torch.nn.Linear(2048, 4)\n",
        "category_model = category_model.to(device)\n",
        "optimizer = torch.optim.SGD(category_model.parameters(), lr = 0.005, momentum = 0.9)"
      ]
    },
    {
      "cell_type": "code",
      "execution_count": null,
      "metadata": {
        "id": "JDsw0kWd5uYw"
      },
      "outputs": [],
      "source": [
        "from sklearn.metrics import accuracy_score\n",
        "import matplotlib.pyplot as plt\n",
        "\n",
        "\n",
        "# Loss Function\n",
        "criterion = nn.CrossEntropyLoss().to(device)\n",
        "best_score = 0\n",
        "\n",
        "for epoch in range(1,100+1):\n",
        "    category_model.train()\n",
        "    train_loss = []\n",
        "    vali_accuracy = []\n",
        "    true = []\n",
        "    pred = []\n",
        "    for img, label in tqdm(iter(train_loader)):\n",
        "        img, label = img.float().to(device),label.to(device)\n",
        "        optimizer.zero_grad()\n",
        "        logit = category_model(img)\n",
        "\n",
        "        loss = criterion(logit, label)\n",
        "        loss.backward()\n",
        "        optimizer.step()\n",
        "        train_loss.append(loss.item())\n",
        "\n",
        "    category_model.eval() # Evaluation\n",
        "    vali_loss = []\n",
        "    with torch.no_grad():\n",
        "        for img,  label in tqdm(iter(valid_loader)):\n",
        "            img,  label = img.float().to(device), label.to(device)\n",
        "\n",
        "            logit = category_model(img)\n",
        "\n",
        "            loss = criterion(logit, label)\n",
        "\n",
        "            vali_loss.append(loss.item())\n",
        "            true.extend(list(label.to('cpu').detach().numpy()))\n",
        "            pred.extend(list(torch.argmax(logit, 1).to('cpu').detach().numpy()))\n",
        "    vali_accuracy = accuracy_score(true, pred) \n",
        "    vali_mae_loss = np.mean(vali_loss)\n",
        "    if vali_accuracy > best_score:\n",
        "        print('모델 갱신')\n",
        "        best_score = vali_accuracy\n",
        "        best_model = category_model\n",
        "\n",
        "    print(f'Epoch [{epoch}] Train CrossEntroy : [{np.mean(train_loss):.5f}] Validation CrossEntroy : [{vali_mae_loss:.5f}] Validation acc : [{vali_accuracy:.5f}] \\n')\n"
      ]
    },
    {
      "cell_type": "code",
      "execution_count": null,
      "metadata": {
        "colab": {
          "base_uri": "https://localhost:8080/",
          "referenced_widgets": [
            "59170b7e1c674909b5534e2cec0f93ff",
            "c7c35fd6b801434198af592b73718c40",
            "9c4a2a1f45e64f9cbf0b79da71d11e79",
            "f41585ec7b294cca9a7cc37dd96337ff",
            "4ab3f0ff43ac405891d9ce1f72dfd568",
            "36c9ae3c77cf4e06b26888d7456e1603",
            "94be641c44ee42fda2a4052b88ab8eff",
            "9d31e760e5be43669c8ff7c35f79d2d3",
            "6c2212a78a8944a0b95d65d9cddf2a0c",
            "b5cf6933e7bc4db493485e4013844e76",
            "c237eed94c84403cb4bdae4c108e151e"
          ]
        },
        "id": "uD3x2p3L5u-R",
        "outputId": "009afcb4-2360-434e-c761-71e30a41513b"
      },
      "outputs": [
        {
          "output_type": "display_data",
          "data": {
            "text/plain": [
              "  0%|          | 0/204 [00:00<?, ?it/s]"
            ],
            "application/vnd.jupyter.widget-view+json": {
              "version_major": 2,
              "version_minor": 0,
              "model_id": "59170b7e1c674909b5534e2cec0f93ff"
            }
          },
          "metadata": {}
        }
      ],
      "source": [
        "best_model.eval()\n",
        "test_edge = []\n",
        "\n",
        "with torch.no_grad():\n",
        "    for img in tqdm(iter(test_loader)):\n",
        "        img = img.float().to(device)\n",
        "        optimizer.zero_grad()\n",
        "        logit = torch.argmax(best_model(img), 1)\n",
        "        test_edge += list(logit.to('cpu').detach().numpy())"
      ]
    },
    {
      "cell_type": "markdown",
      "metadata": {
        "id": "_JJ38sm8eXST"
      },
      "source": [
        "# Custom"
      ]
    },
    {
      "cell_type": "code",
      "execution_count": null,
      "metadata": {
        "id": "Lk5M0bb6R1dJ"
      },
      "outputs": [],
      "source": [
        "train_idx , valid_idx = train_test_split(range(len(simulation_sem_paths)), test_size = 0.2, random_state = 42)\n",
        "\n",
        "train_sem_paths = np.array(simulation_sem_paths)[train_idx]\n",
        "train_depth_paths = np.array(simulation_depth_paths)[train_idx]\n",
        "\n",
        "val_sem_paths = np.array(simulation_sem_paths)[valid_idx]\n",
        "val_depth_paths = np.array(simulation_depth_paths)[valid_idx]\n",
        "\n",
        "test_sem_path_list = sorted(glob.glob('/2022 Samsung AI Challenge (3D Metrology)/test/SEM/*.png'))"
      ]
    },
    {
      "cell_type": "code",
      "execution_count": null,
      "metadata": {
        "id": "oQL5-7lRMIA2"
      },
      "outputs": [],
      "source": [
        "class CustomDataset(Dataset):\n",
        "    def __init__(self, sem_path_list, depth_path_list, transform, id = None):\n",
        "        self.sem_path_list = sem_path_list\n",
        "        self.depth_path_list = depth_path_list\n",
        "        self.transform = transform\n",
        "        self.id = id\n",
        "\n",
        "    def __len__(self):\n",
        "        return len(self.sem_path_list)\n",
        "\n",
        "\n",
        "    def __getitem__(self, index):\n",
        "        sem_path = self.sem_path_list[index]\n",
        "        # sem_img = cv2.imread(sem_path, cv2.IMREAD_GRAYSCALE)\n",
        "        # sem_img = np.expand_dims(sem_img, axis=-1).transpose(2,0,1)\n",
        "\n",
        "        \n",
        "        # VAE\n",
        "        sem_img = cv2.imread(sem_path, cv2.IMREAD_COLOR)\n",
        "\n",
        "        if self.depth_path_list is not None:\n",
        "            sem_img = cv2.GaussianBlur(sem_img, (0, 0), 0.55)    \n",
        "            if 'Case_1' in sem_path:\n",
        "                ed = 140\n",
        "            elif 'Case_2' in sem_path:\n",
        "                ed = 150\n",
        "            elif 'Case_3' in sem_path:\n",
        "                ed = 160\n",
        "            else:\n",
        "                ed = 170\n",
        "        else:\n",
        "            if self.id[index] == 0:\n",
        "                ed = 140\n",
        "            elif self.id[index] == 1:\n",
        "                ed = 150\n",
        "            elif self.id[index] == 2:\n",
        "                ed = 160\n",
        "            else:\n",
        "                ed = 170\n",
        "        ed = ed / 255.\n",
        "\n",
        "        sem_img = sem_img / 255.\n",
        "        if self.transform is not None:\n",
        "            sem_img = self.transform(sem_img)\n",
        "        \n",
        "\n",
        "        if self.depth_path_list is not None:\n",
        "            depth_path = self.depth_path_list[index]\n",
        "            # depth_img = cv2.imread(depth_path, cv2.IMREAD_GRAYSCALE)\n",
        "            # depth_img = np.expand_dims(depth_img, axis=-1).transpose(2,0,1)\n",
        "\n",
        "            # VAE\n",
        "            depth_img = cv2.imread(depth_path, cv2.IMREAD_COLOR)\n",
        "            depth_img = depth_img / 255.\n",
        "\n",
        "            return sem_img, depth_img, ed\n",
        "        else:\n",
        "            img_name = sem_path.split('/')[-1]\n",
        "            return sem_img, img_name , ed # B,C,H,W"
      ]
    },
    {
      "cell_type": "code",
      "execution_count": null,
      "metadata": {
        "id": "ZMWI5JTWMJO1"
      },
      "outputs": [],
      "source": [
        "train_dataset = CustomDataset(train_sem_paths, train_depth_paths, transform = train_transform)\n",
        "train_loader = DataLoader(train_dataset, batch_size = CFG['BATCH_SIZE'], shuffle=True)\n",
        "\n",
        "val_dataset = CustomDataset(val_sem_paths, val_depth_paths, transform = train_transform)\n",
        "val_loader = DataLoader(val_dataset, batch_size=CFG['BATCH_SIZE'], shuffle=False)\n",
        "\n",
        "test_dataset = CustomDataset(test_sem_path_list, None, transform = train_transform, id = test_edge)\n",
        "test_loader = DataLoader(test_dataset, batch_size=CFG['BATCH_SIZE'], shuffle=False, num_workers=6)"
      ]
    },
    {
      "cell_type": "markdown",
      "metadata": {
        "id": "2IoUA8TYsJBb"
      },
      "source": [
        "# 평균 Depth 예측"
      ]
    },
    {
      "cell_type": "code",
      "execution_count": null,
      "metadata": {
        "id": "LKZSs0dUzwvN"
      },
      "outputs": [],
      "source": [
        "from sklearn.preprocessing import LabelEncoder"
      ]
    },
    {
      "cell_type": "code",
      "execution_count": null,
      "metadata": {
        "id": "zZoRGSAUz3D5"
      },
      "outputs": [],
      "source": [
        "le = LabelEncoder()\n",
        "le.fit(df_out.depth)\n",
        "df_out.depth = le.transform(df_out.depth)"
      ]
    },
    {
      "cell_type": "code",
      "execution_count": null,
      "metadata": {
        "id": "zyo3xap-tq6J"
      },
      "outputs": [],
      "source": [
        "class CustomDataset2(Dataset):\n",
        "    def __init__(self, sem_path_list, depth, transform):\n",
        "        self.sem_path_list = sem_path_list\n",
        "        self.depth = depth\n",
        "        self.transform = transform\n",
        "\n",
        "    def __len__(self):\n",
        "        return len(self.sem_path_list)\n",
        "\n",
        "    def __getitem__(self, idx):\n",
        "        sem_path = self.sem_path_list[idx]\n",
        "\n",
        "        sem_img = cv2.imread(sem_path, cv2.IMREAD_COLOR)\n",
        "        sem_img = self.transform(sem_img)\n",
        "\n",
        "\n",
        "        sem_img = sem_img / 255.\n",
        "        \n",
        "        if self.depth is not None:\n",
        "            mean_depth = self.depth[idx]\n",
        "            return sem_img, mean_depth\n",
        "\n",
        "        else:\n",
        "            return sem_img"
      ]
    },
    {
      "cell_type": "code",
      "execution_count": null,
      "metadata": {
        "id": "UffB_MTHxswi"
      },
      "outputs": [],
      "source": [
        "train_idx , valid_idx = train_test_split(range(df_out.shape[0]), test_size = 0.2, random_state = 42)\n",
        "\n",
        "train_sem_paths = np.array(df_out.iloc[train_idx, 0])\n",
        "train_depth = np.array(df_out.iloc[train_idx, 1])\n",
        "\n",
        "valid_sem_paths = np.array(df_out.iloc[valid_idx, 0])\n",
        "valid_depth = np.array(df_out.iloc[valid_idx, 1])"
      ]
    },
    {
      "cell_type": "code",
      "execution_count": null,
      "metadata": {
        "id": "uhkcqW-nxk9c"
      },
      "outputs": [],
      "source": [
        "train_dataset = CustomDataset2(train_sem_paths, train_depth, train_transform)\n",
        "train_loader = DataLoader(train_dataset, batch_size = 128, shuffle=True)\n",
        "\n",
        "valid_dataset = CustomDataset2(valid_sem_paths, valid_depth, train_transform)\n",
        "valid_loader = DataLoader(valid_dataset, batch_size=128, shuffle=False)\n",
        "\n",
        "test_dataset = CustomDataset2(test_sem_path_list, None, train_transform)\n",
        "test_loader = DataLoader(test_dataset, batch_size=128, shuffle=False)"
      ]
    },
    {
      "cell_type": "code",
      "execution_count": null,
      "metadata": {
        "id": "vJ9aqf1f0Ejn"
      },
      "outputs": [],
      "source": [
        "category_model = models.resnet101(pretrained=False)  # 모델 객체 생성\n",
        "category_model.fc = torch.nn.Linear(2048, len(df_out.depth.unique()))\n",
        "category_model = category_model.to(device)\n",
        "optimizer = torch.optim.SGD(category_model.parameters(), lr = 0.001, momentum = 0.9)\n",
        "\n",
        "\n",
        "# total_iter = len(train_loader)\n",
        "# warmup_iter = 100\n",
        "\n",
        "# scheduler_cosine = torch.optim.lr_scheduler.CosineAnnealingLR(optimizer, total_iter-warmup_iter)\n",
        "# scheduler = LearningRateWarmUP(optimizer=optimizer,\n",
        "#                                    warmup_iteration=warmup_iter,\n",
        "#                                    target_lr=0.001,\n",
        "#                                    after_scheduler=scheduler_cosine)\n"
      ]
    },
    {
      "cell_type": "code",
      "execution_count": null,
      "metadata": {
        "id": "ncUmVz6JJ6R9"
      },
      "outputs": [],
      "source": [
        "train(category_model, optimizer, train_loader, valid_loader, None, device, 2)"
      ]
    },
    {
      "cell_type": "code",
      "execution_count": null,
      "metadata": {
        "colab": {
          "base_uri": "https://localhost:8080/"
        },
        "id": "xoATkX3KpGrh",
        "outputId": "ba63e937-9897-4cef-a359-a84303108ba6"
      },
      "outputs": [
        {
          "data": {
            "application/vnd.jupyter.widget-view+json": {
              "model_id": "c161eeee7c3a4a898a23295897fd3d6a",
              "version_major": 2,
              "version_minor": 0
            },
            "text/plain": [
              "  0%|          | 0/204 [00:00<?, ?it/s]"
            ]
          },
          "metadata": {},
          "output_type": "display_data"
        }
      ],
      "source": [
        "test_depth_mean = np.array([])\n",
        "with torch.no_grad():\n",
        "    for sem in tqdm(test_loader):\n",
        "        sem = sem.float().to(device)\n",
        "        \n",
        "        pred = F.softmax(category_model(sem))\n",
        "        model_pred = torch.sum(pred * \n",
        "                                torch.tensor(le.classes_).to(device), axis = 1)\n",
        "        test_depth_mean = np.append(test_depth_mean, model_pred.to('cpu').detach().numpy())"
      ]
    },
    {
      "cell_type": "markdown",
      "metadata": {
        "id": "g6KKiphn_nfX"
      },
      "source": [
        "# 실험"
      ]
    },
    {
      "cell_type": "code",
      "execution_count": null,
      "metadata": {
        "id": "CuA0VVrNRrFF"
      },
      "outputs": [],
      "source": [
        "train_depth_mean = []\n",
        "train_sem_mean = []\n",
        "for i in range(df_out.shape[0]):\n",
        "    train_depth_mean.append(df_out.iloc[i, 1])\n",
        "    train_sem_mean.append(np.mean(cv2.imread(df_out.iloc[i, 0])))"
      ]
    },
    {
      "cell_type": "code",
      "execution_count": null,
      "metadata": {
        "colab": {
          "base_uri": "https://localhost:8080/"
        },
        "id": "0f-XmarBRsQS",
        "outputId": "6a61af55-bc31-4bf5-ea02-578b3547a702"
      },
      "outputs": [
        {
          "data": {
            "text/plain": [
              "LinearRegression()"
            ]
          },
          "execution_count": 87,
          "metadata": {},
          "output_type": "execute_result"
        }
      ],
      "source": [
        "from sklearn.linear_model import LinearRegression\n",
        "\n",
        "lr = LinearRegression()\n",
        "lr.fit(np.array(train_depth_mean).reshape(-1, 1), np.array(train_sem_mean).reshape(-1, 1))"
      ]
    },
    {
      "cell_type": "code",
      "execution_count": null,
      "metadata": {
        "id": "C1VnwVwghtlY"
      },
      "outputs": [],
      "source": []
    },
    {
      "cell_type": "code",
      "execution_count": null,
      "metadata": {
        "colab": {
          "base_uri": "https://localhost:8080/"
        },
        "id": "QOky6YIbRsI9",
        "outputId": "60b6b3d1-ec40-400d-e8da-189cc12b32da"
      },
      "outputs": [
        {
          "data": {
            "text/plain": [
              "[<matplotlib.lines.Line2D at 0x7fb32a49f710>]"
            ]
          },
          "execution_count": 88,
          "metadata": {},
          "output_type": "execute_result"
        },
        {
          "data": {
            "image/png": "[encoded data removed]",
            "text/plain": [
              "<Figure size 432x288 with 1 Axes>"
            ]
          },
          "metadata": {},
          "output_type": "display_data"
        }
      ],
      "source": [
        "import matplotlib.pyplot as plt\n",
        "y_pred = lr.predict(np.array(train_depth_mean).reshape(-1, 1))\n",
        "plt.scatter(train_depth_mean, train_sem_mean)\n",
        "plt.plot(np.array(train_depth_mean), y_pred, color = 'red')"
      ]
    },
    {
      "cell_type": "code",
      "execution_count": null,
      "metadata": {
        "colab": {
          "base_uri": "https://localhost:8080/"
        },
        "id": "ZSS1pedyqiWb",
        "outputId": "d039061c-279e-4ca3-d49a-06524c3ab1eb"
      },
      "outputs": [
        {
          "data": {
            "image/png": "[encoded data removed]",
            "text/plain": [
              "<Figure size 432x288 with 1 Axes>"
            ]
          },
          "metadata": {},
          "output_type": "display_data"
        }
      ],
      "source": [
        "plt.hist(train_sem_mean, bins=100)\n",
        "plt.tight_layout()\n",
        "plt.show()"
      ]
    },
    {
      "cell_type": "code",
      "execution_count": null,
      "metadata": {
        "id": "fB7QWVLkRsB5"
      },
      "outputs": [],
      "source": [
        "simul_depth_mean = []\n",
        "for i in simulation_depth_paths:\n",
        "    simul_depth_mean.append(np.mean(cv2.imread(i)))"
      ]
    },
    {
      "cell_type": "code",
      "execution_count": null,
      "metadata": {
        "colab": {
          "base_uri": "https://localhost:8080/"
        },
        "id": "eH1jrpriRr7S",
        "outputId": "2fc526a0-baa1-4f34-c1c5-60bdd880abad"
      },
      "outputs": [
        {
          "name": "stdout",
          "output_type": "stream",
          "text": [
            "13.53441007426757\n"
          ]
        },
        {
          "data": {
            "image/png": "[encoded data removed]",
            "text/plain": [
              "<Figure size 432x288 with 1 Axes>"
            ]
          },
          "metadata": {},
          "output_type": "display_data"
        }
      ],
      "source": [
        "kernel = np.array([[2, 1], \n",
        "            [2.9, 3.5]])\n",
        "k = kernel / 8\n",
        "\n",
        "simul_sem_mean = []\n",
        "for i in simulation_sem_paths:\n",
        "    img = cv2.imread(i)\n",
        "\n",
        "    img = cv2.filter2D(img, ddepth = -1, kernel = k)\n",
        "    \n",
        "    simul_sem_mean.append(np.mean(img))\n",
        "\n",
        "y_pred = lr.predict(np.array(simul_depth_mean).reshape(-1, 1))\n",
        "\n",
        "plt.scatter(simul_depth_mean, simul_sem_mean, alpha = 0.005)\n",
        "plt.plot(simul_depth_mean, y_pred, color = 'red')\n",
        "mse = mean_squared_error(simul_sem_mean, y_pred)\n",
        "print(mse)"
      ]
    },
    {
      "cell_type": "code",
      "execution_count": null,
      "metadata": {
        "id": "FTEwgeydzeYO"
      },
      "outputs": [],
      "source": [
        "13.53441007426757"
      ]
    },
    {
      "cell_type": "code",
      "execution_count": null,
      "metadata": {
        "colab": {
          "base_uri": "https://localhost:8080/"
        },
        "id": "9B_m_LrdikSJ",
        "outputId": "34d12f57-059f-4366-f981-ed2cee7bcd67"
      },
      "outputs": [
        {
          "data": {
            "image/png": "[encoded data removed]",
            "text/plain": [
              "<Figure size 432x288 with 1 Axes>"
            ]
          },
          "metadata": {},
          "output_type": "display_data"
        }
      ],
      "source": [
        "plt.hist(simul_sem_mean, bins=100)\n",
        "plt.tight_layout()\n",
        "plt.show()"
      ]
    },
    {
      "cell_type": "code",
      "execution_count": null,
      "metadata": {
        "id": "P5Qnxxp2wr-o"
      },
      "outputs": [],
      "source": [
        "simul_sem_mean_scale = abs((simul_sem_mean-np.mean(simul_sem_mean))/np.std(simul_sem_mean))\n",
        "drop_idx = np.where(simul_sem_mean_scale > 1.96)[0]\n"
      ]
    },
    {
      "cell_type": "code",
      "execution_count": null,
      "metadata": {
        "id": "XIQ4fs6NxpBQ"
      },
      "outputs": [],
      "source": [
        "new_simulation_sem_paths = np.array(simulation_sem_paths)[list(drop_idx)]\n",
        "new_simulation_depth_paths = np.array(simulation_depth_paths)[list(drop_idx)]"
      ]
    },
    {
      "cell_type": "code",
      "execution_count": null,
      "metadata": {
        "id": "m3wm8IlzyEse"
      },
      "outputs": [],
      "source": [
        "simul_depth_mean = []\n",
        "for i in new_simulation_depth_paths:\n",
        "    simul_depth_mean.append(np.mean(cv2.imread(i)))"
      ]
    },
    {
      "cell_type": "code",
      "execution_count": null,
      "metadata": {
        "colab": {
          "base_uri": "https://localhost:8080/"
        },
        "id": "rbpbRC-qxiVo",
        "outputId": "7ef648c1-36e9-42c0-c14a-8c2041bd4d57"
      },
      "outputs": [
        {
          "name": "stdout",
          "output_type": "stream",
          "text": [
            "69.32920496702975\n"
          ]
        },
        {
          "data": {
            "image/png": "[encoded data removed]",
            "text/plain": [
              "<Figure size 432x288 with 1 Axes>"
            ]
          },
          "metadata": {},
          "output_type": "display_data"
        }
      ],
      "source": [
        "kernel = np.array([[2, 1], \n",
        "            [3.1, 3.5]])\n",
        "k = kernel / 8\n",
        "\n",
        "simul_sem_mean = []\n",
        "for i in new_simulation_sem_paths:\n",
        "    img = cv2.imread(i)\n",
        "\n",
        "    img = cv2.filter2D(img, ddepth = -1, kernel = k)\n",
        "    \n",
        "    simul_sem_mean.append(np.mean(img))\n",
        "\n",
        "y_pred = lr.predict(np.array(simul_depth_mean).reshape(-1, 1))\n",
        "\n",
        "plt.scatter(simul_depth_mean, simul_sem_mean)\n",
        "plt.plot(simul_depth_mean, y_pred, color = 'red')\n",
        "mse = mean_squared_error(simul_sem_mean, y_pred)\n",
        "print(mse)"
      ]
    },
    {
      "cell_type": "code",
      "execution_count": null,
      "metadata": {
        "id": "K88AMl8DDxU4"
      },
      "outputs": [],
      "source": [
        "import matplotlib.pyplot as plt\n",
        "from sklearn.metrics import r2_score\n"
      ]
    },
    {
      "cell_type": "code",
      "execution_count": null,
      "metadata": {
        "id": "zbaQB3bEEwjF"
      },
      "outputs": [],
      "source": [
        "def get_key(path):\n",
        "    path = os.path.normpath(path)\n",
        "    names = path.split(os.sep)\n",
        "    return f\"{names[-3].lower()}_{names[-2]}\""
      ]
    },
    {
      "cell_type": "code",
      "execution_count": null,
      "metadata": {
        "id": "cPRlZ_I3_oqJ"
      },
      "outputs": [],
      "source": [
        "def get_mean(path):\n",
        "    return np.mean(cv2.imread(path, 0))"
      ]
    },
    {
      "cell_type": "code",
      "execution_count": null,
      "metadata": {
        "id": "8-jOylzIKqf2"
      },
      "outputs": [],
      "source": [
        "path = '/2022 Samsung AI Challenge (3D Metrology)'\n",
        "\n",
        "# train sem image mean\n",
        "test_a = os.path.join(path, \"test\", \"SEM\", \"*.png\")\n",
        "test_a = glob.glob(test_a)\n",
        "test_a = [get_mean(pa) for pa in test_a]"
      ]
    },
    {
      "cell_type": "code",
      "execution_count": null,
      "metadata": {
        "colab": {
          "base_uri": "https://localhost:8080/"
        },
        "id": "G6LOYae9KxM7",
        "outputId": "38e6ddfd-d731-49d1-c613-a3e76edf6d6a"
      },
      "outputs": [
        {
          "data": {
            "image/png": "[encoded data removed]",
            "text/plain": [
              "<Figure size 432x288 with 1 Axes>"
            ]
          },
          "metadata": {},
          "output_type": "display_data"
        }
      ],
      "source": [
        "# graph\n",
        "\n",
        "plt.hist(test_a, bins=100)\n",
        "\n",
        "\n",
        "plt.tight_layout()\n",
        "plt.show()"
      ]
    },
    {
      "cell_type": "code",
      "execution_count": null,
      "metadata": {
        "id": "9Ez3lksOFO84"
      },
      "outputs": [],
      "source": [
        "# train sem image mean\n",
        "train_110 = os.path.join(path, \"train\", \"SEM\", \"Depth_110\", \"*/*.png\")\n",
        "train_110 = glob.glob(train_110)\n",
        "train_110 = [get_mean(pa) for pa in train_110]\n",
        "\n",
        "train_120 = os.path.join(path, \"train\", \"SEM\", \"Depth_120\", \"*/*.png\")\n",
        "train_120 = glob.glob(train_120)\n",
        "train_120 = [get_mean(pa) for pa in train_120]\n",
        "\n",
        "train_130 = os.path.join(path, \"train\", \"SEM\", \"Depth_130\", \"*/*.png\")\n",
        "train_130 = glob.glob(train_130)\n",
        "train_130 = [get_mean(pa) for pa in train_130]\n",
        "\n",
        "train_140 = os.path.join(path, \"train\", \"SEM\", \"Depth_140\", \"*/*.png\")\n",
        "train_140 = glob.glob(train_140)\n",
        "train_140 = [get_mean(pa) for pa in train_140]\n",
        "\n",
        "# train depth\n",
        "df_depth = pd.read_csv(\"/2022 Samsung AI Challenge (3D Metrology)/train/average_depth.csv\")\n",
        "table = {k: v for k, v in zip(df_depth[\"0\"].values, df_depth[\"1\"].values)}\n",
        "\n",
        "files = glob.glob(\"/2022 Samsung AI Challenge (3D Metrology)/train/SEM/Depth_110/*/*.png\")\n",
        "depth_train_110 = [table[get_key(file)] for file in files]\n",
        "\n",
        "files = glob.glob(\"/2022 Samsung AI Challenge (3D Metrology)/train/SEM/Depth_120/*/*.png\")\n",
        "depth_train_120 = [table[get_key(file)] for file in files]\n",
        "\n",
        "files = glob.glob(\"/2022 Samsung AI Challenge (3D Metrology)/train/SEM/Depth_130/*/*.png\")\n",
        "depth_train_130 = [table[get_key(file)] for file in files]\n",
        "\n",
        "files = glob.glob(\"/2022 Samsung AI Challenge (3D Metrology)/train/SEM/Depth_140/*/*.png\")\n",
        "depth_train_140 = [table[get_key(file)] for file in files]\n"
      ]
    },
    {
      "cell_type": "code",
      "execution_count": null,
      "metadata": {
        "colab": {
          "base_uri": "https://localhost:8080/",
          "height": 297
        },
        "id": "GbmDf8OaHASI",
        "outputId": "e8939295-1a8e-4980-b156-ec5a6825db1b"
      },
      "outputs": [
        {
          "data": {
            "image/png": "[encoded data removed]",
            "text/plain": [
              "<Figure size 864x288 with 1 Axes>"
            ]
          },
          "metadata": {},
          "output_type": "display_data"
        }
      ],
      "source": [
        "# graph\n",
        "\n",
        "plt.figure(figsize=(12, 4))\n",
        "\n",
        "plt.hist(train_110, bins=100, density=True, alpha=0.8, label=\"train_110\", color=\"#FF00FF\")\n",
        "plt.hist(train_120, bins=100, density=True, alpha=0.8, label=\"train_12\", color=\"#FF0000\")\n",
        "plt.hist(train_130, bins=100, density=True, alpha=0.8, label=\"train_130\", color=\"#FFD700\")\n",
        "plt.hist(train_140, bins=100, density=True, alpha=0.8, label=\"train_140\", color=\"#FFFF00\")\n",
        "plt.hist(depth_train_110, bins=100, density=True, alpha=0.8, label=\"depth_train_110\", color=\"#4B0082\")\n",
        "plt.hist(depth_train_120, bins=100, density=True, alpha=0.8, label=\"depth_train_120\", color=\"#0000FF\")\n",
        "plt.hist(depth_train_130, bins=100, density=True, alpha=0.8, label=\"depth_train_130\", color=\"#1E90FF\")\n",
        "plt.hist(depth_train_140, bins=100, density=True, alpha=0.8, label=\"depth_train_140\", color=\"#00FFFF\")\n",
        "\n",
        "plt.legend(loc='upper left', bbox_to_anchor=(1, 1.0))\n",
        "\n",
        "plt.tight_layout()\n",
        "plt.show()"
      ]
    },
    {
      "cell_type": "code",
      "execution_count": null,
      "metadata": {
        "id": "oGbyQ0qgCg9f"
      },
      "outputs": [],
      "source": [
        "# simulation sem image mean\n",
        "simul_case_1 = os.path.join(path, \"simulation_data\", \"SEM\", \"Case_1\", \"*/*.png\")\n",
        "simul_case_1 = glob.glob(simul_case_1)\n",
        "simul_case_1 = [get_mean(pa) for pa in simul_case_1]\n",
        "\n",
        "simul_case_2 = os.path.join(path, \"simulation_data\", \"SEM\", \"Case_2\", \"*/*.png\")\n",
        "simul_case_2 = glob.glob(simul_case_2)\n",
        "simul_case_2 = [get_mean(pa) for pa in simul_case_2]\n",
        "\n",
        "simul_case_3 = os.path.join(path, \"simulation_data\", \"SEM\", \"Case_3\", \"*/*.png\")\n",
        "simul_case_3 = glob.glob(simul_case_3)\n",
        "simul_case_3 = [get_mean(pa) for pa in simul_case_3]\n",
        "\n",
        "simul_case_4 = os.path.join(path, \"simulation_data\", \"SEM\", \"Case_4\", \"*/*.png\")\n",
        "simul_case_4 = glob.glob(simul_case_4)\n",
        "simul_case_4 = [get_mean(pa) for pa in simul_case_4]\n",
        "\n",
        "# simulation depth image mean\n",
        "depth_simul_case_1 = os.path.join(path, \"simulation_data\", \"Depth\", \"Case_1\", \"*/*.png\")\n",
        "depth_simul_case_1 = glob.glob(depth_simul_case_1)\n",
        "depth_simul_case_1 = [get_mean(pa) for pa in depth_simul_case_1]\n",
        "\n",
        "depth_simul_case_2 = os.path.join(path, \"simulation_data\", \"Depth\", \"Case_2\", \"*/*.png\")\n",
        "depth_simul_case_2 = glob.glob(depth_simul_case_2)\n",
        "depth_simul_case_2 = [get_mean(pa) for pa in depth_simul_case_2]\n",
        "\n",
        "depth_simul_case_3 = os.path.join(path, \"simulation_data\", \"Depth\", \"Case_3\", \"*/*.png\")\n",
        "depth_simul_case_3 = glob.glob(depth_simul_case_3)\n",
        "depth_simul_case_3 = [get_mean(pa) for pa in depth_simul_case_3]\n",
        "\n",
        "depth_simul_case_4 = os.path.join(path, \"simulation_data\", \"Depth\", \"Case_4\", \"*/*.png\")\n",
        "depth_simul_case_4 = glob.glob(depth_simul_case_4)\n",
        "depth_simul_case_4 = [get_mean(pa) for pa in depth_simul_case_4]"
      ]
    },
    {
      "cell_type": "code",
      "execution_count": null,
      "metadata": {
        "colab": {
          "base_uri": "https://localhost:8080/",
          "height": 297
        },
        "id": "FaFL4PawDyo_",
        "outputId": "72dab317-14c3-4de9-9ee6-fad3ffb04cea"
      },
      "outputs": [
        {
          "data": {
            "image/png": "[encoded data removed]",
            "text/plain": [
              "<Figure size 864x288 with 1 Axes>"
            ]
          },
          "metadata": {},
          "output_type": "display_data"
        }
      ],
      "source": [
        "# graph\n",
        "\n",
        "plt.figure(figsize=(12, 4))\n",
        "\n",
        "plt.subplot(1, 2, 1)\n",
        "plt.hist(simul_case_1, bins=100, density=True, alpha=0.8, label=\"simul_case_1\", color=\"#FF00FF\")\n",
        "plt.hist(simul_case_2, bins=100, density=True, alpha=0.8, label=\"simul_case_2\", color=\"#FF0000\")\n",
        "plt.hist(simul_case_3, bins=100, density=True, alpha=0.8, label=\"simul_case_3\", color=\"#FFD700\")\n",
        "plt.hist(simul_case_4, bins=100, density=True, alpha=0.8, label=\"simul_case_4\", color=\"#FFFF00\")\n",
        "plt.hist(depth_simul_case_1, bins=100, density=True, alpha=0.8, label=\"depth_simul_case_1\", color=\"#4B0082\")\n",
        "plt.hist(depth_simul_case_2, bins=100, density=True, alpha=0.8, label=\"depth_simul_case_2\", color=\"#0000FF\")\n",
        "plt.hist(depth_simul_case_3, bins=100, density=True, alpha=0.8, label=\"depth_simul_case_3\", color=\"#1E90FF\")\n",
        "plt.hist(depth_simul_case_4, bins=100, density=True, alpha=0.8, label=\"depth_simul_case_4\", color=\"#00FFFF\")\n",
        "\n",
        "plt.legend(loc='upper left', bbox_to_anchor=(1, 1.0))\n",
        "\n",
        "plt.tight_layout()\n",
        "plt.show()"
      ]
    },
    {
      "cell_type": "code",
      "execution_count": null,
      "metadata": {
        "id": "aAN32v1hPuWW"
      },
      "outputs": [],
      "source": [
        "# train sem image mean\n",
        "depth_simul_case_4 = os.path.join(path, \"simulation_data\", \"Depth\", \"Case_4\", \"*/*.png\")\n",
        "depth_simul_case_4 = glob.glob(depth_simul_case_4)\n",
        "\n",
        "import random \n",
        "for i in random.sample(depth_simul_case_4, 10):\n",
        "    plt.hist(cv2.imread(i).reshape(-1))\n",
        "    plt.show()"
      ]
    },
    {
      "cell_type": "code",
      "execution_count": null,
      "metadata": {
        "id": "lH5EtS3pRciD"
      },
      "outputs": [],
      "source": [
        "import random \n",
        "for i in random.sample(train_110, 10):\n",
        "    plt.hist(cv2.imread(i).reshape(-1))\n",
        "    plt.show()"
      ]
    },
    {
      "cell_type": "code",
      "execution_count": null,
      "metadata": {
        "colab": {
          "base_uri": "https://localhost:8080/"
        },
        "id": "oIGpCAZsUCd8",
        "outputId": "ca40ea0a-2c14-4a21-9a11-067df3414075"
      },
      "outputs": [
        {
          "name": "stdout",
          "output_type": "stream",
          "text": [
            "100.92621527777777\n",
            "101.16811342592592\n"
          ]
        }
      ],
      "source": [
        "img = cv2.imread(simulation_sem_paths[0])\n",
        "\n",
        "kernel = np.array([[1, 1], \n",
        "                [1, 1]])\n",
        "k = kernel / 4\n",
        "\n",
        "img_2 = cv2.filter2D(img, 0, k)\n",
        "\n",
        "print(np.mean(img))\n",
        "print(np.mean(img_2))"
      ]
    },
    {
      "cell_type": "code",
      "execution_count": null,
      "metadata": {
        "colab": {
          "base_uri": "https://localhost:8080/",
          "height": 89
        },
        "id": "tvE9uC2kUH34",
        "outputId": "82edca6b-dfa5-4c25-b896-58a46f6be7b9"
      },
      "outputs": [
        {
          "data": {
            "image/png": "[encoded data removed]",
            "text/plain": [
              "<PIL.Image.Image image mode=RGB size=48x72 at 0x7FAC16E390D0>"
            ]
          },
          "metadata": {},
          "output_type": "display_data"
        }
      ],
      "source": [
        "cv2_imshow(img_2)"
      ]
    },
    {
      "cell_type": "code",
      "execution_count": null,
      "metadata": {
        "colab": {
          "base_uri": "https://localhost:8080/",
          "height": 89
        },
        "id": "VLjkcd49Ul85",
        "outputId": "6d873644-ec5f-493a-c447-56fe15db1db1"
      },
      "outputs": [
        {
          "data": {
            "image/png": "[encoded data removed]",
            "text/plain": [
              "<PIL.Image.Image image mode=RGB size=48x72 at 0x7FAC16E39050>"
            ]
          },
          "metadata": {},
          "output_type": "display_data"
        }
      ],
      "source": [
        "cv2_imshow(img)"
      ]
    },
    {
      "cell_type": "code",
      "execution_count": null,
      "metadata": {
        "colab": {
          "base_uri": "https://localhost:8080/",
          "height": 89
        },
        "id": "carxXTeoUxxS",
        "outputId": "5a08d3d8-1368-4623-e864-4db8212cb1a2"
      },
      "outputs": [
        {
          "data": {
            "image/png": "[encoded data removed]",
            "text/plain": [
              "<PIL.Image.Image image mode=RGB size=48x72 at 0x7FAC17293390>"
            ]
          },
          "metadata": {},
          "output_type": "display_data"
        }
      ],
      "source": [
        "cv2_imshow(cv2.imread(df_out.path[0]))"
      ]
    },
    {
      "cell_type": "code",
      "execution_count": null,
      "metadata": {
        "id": "VU6DCk7dT6J_"
      },
      "outputs": [],
      "source": [
        "np.mean(cv2.imread(simulation_sem_paths[0]))"
      ]
    },
    {
      "cell_type": "code",
      "execution_count": null,
      "metadata": {
        "colab": {
          "base_uri": "https://localhost:8080/",
          "height": 36
        },
        "id": "zEotwdHpTlko",
        "outputId": "91c58ad4-0ae4-403c-8259-cce62bc67593"
      },
      "outputs": [
        {
          "data": {
            "application/vnd.google.colaboratory.intrinsic+json": {
              "type": "string"
            },
            "text/plain": [
              "'/2022 Samsung AI Challenge (3D Metrology)/simulation_data/Depth/Case_1/80/20201001_202940_NE142400C_RAE01_1_S01_M0005-01MS_3.png'"
            ]
          },
          "execution_count": 180,
          "metadata": {},
          "output_type": "execute_result"
        }
      ],
      "source": [
        "simulation_depth_paths[0]"
      ]
    },
    {
      "cell_type": "markdown",
      "metadata": {
        "id": "5ue8A5JRMJTw"
      },
      "source": [
        "# VAE"
      ]
    },
    {
      "cell_type": "code",
      "execution_count": null,
      "metadata": {
        "id": "UiKK4Ajbw_Hs"
      },
      "outputs": [],
      "source": [
        "# https://towardsdatascience.com/variational-autoencoder-demystified-with-pytorch-implementation-3a06bee395ed"
      ]
    },
    {
      "cell_type": "code",
      "execution_count": null,
      "metadata": {
        "id": "VpaWWa6sFNOO"
      },
      "outputs": [],
      "source": [
        "%%capture\n",
        "!pip install pytorch-lightning\n",
        "!pip install pytorch-lightning-bolts"
      ]
    },
    {
      "cell_type": "code",
      "execution_count": null,
      "metadata": {
        "id": "roSR07V6HA_w"
      },
      "outputs": [],
      "source": [
        "import pytorch_lightning as pl\n",
        "from torch import nn\n",
        "from torch.nn import functional as F\n",
        "from pl_bolts.models.autoencoders.components import resnet50_decoder, resnet50_encoder, resnet18_decoder, resnet18_encoder"
      ]
    },
    {
      "cell_type": "code",
      "execution_count": null,
      "metadata": {
        "id": "Rch3fXFtJO5Z"
      },
      "outputs": [],
      "source": [
        "class VAE(pl.LightningModule):\n",
        "    def __init__(self, enc_out_dim=512, latent_dim=CFG['BATCH_SIZE'], input_height=CFG['HEIGHT']):\n",
        "        super().__init__()\n",
        "\n",
        "        self.save_hyperparameters()\n",
        "\n",
        "        # encoder, decoder\n",
        "        self.encoder = resnet18_encoder(False, False)\n",
        "        self.decoder = resnet18_decoder(\n",
        "            latent_dim=latent_dim, \n",
        "            input_height=input_height, \n",
        "            first_conv=False, \n",
        "            maxpool1=False\n",
        "        )\n",
        "\n",
        "        # distribution parameters\n",
        "        self.fc_mu = nn.Linear(enc_out_dim, latent_dim)\n",
        "        self.fc_var = nn.Linear(enc_out_dim, latent_dim)\n",
        "\n",
        "\n",
        "        self.Linear1 = nn.Sequential(\n",
        "            nn.Linear(CFG['HEIGHT']*CFG['HEIGHT'], CFG['HEIGHT']*CFG['WIDTH']),\n",
        "        )\n",
        "\n",
        "\n",
        "    def forward(self, x, ed):\n",
        "\n",
        "        # encode x to get the mu and variance parameters\n",
        "        x_encoded = self.encoder(x)\n",
        "        mu, log_var = self.fc_mu(x_encoded), F.sigmoid(self.fc_var(x_encoded))\n",
        "\n",
        "\n",
        "\n",
        "        # sample z from q\n",
        "        std = torch.exp(log_var / 2) \n",
        "        q = torch.distributions.Normal(mu, std)\n",
        "        z = q.rsample()\n",
        "\n",
        "        # decoded \n",
        "        x_hat = self.decoder(z)\n",
        "        x_hat = x_hat.view( -1, CFG['HEIGHT']*CFG['HEIGHT'])\n",
        "        x_hat = self.Linear1(x_hat)\n",
        "        x_hat = x_hat.view(-1, CFG['HEIGHT'], CFG['WIDTH'], 3)\n",
        "        for i in range(x_hat.shape[0]):\n",
        "            x_hat[i][x_hat[i] > ed[i]] = ed[i]\n",
        "            \n",
        "\n",
        "        return x_hat"
      ]
    },
    {
      "cell_type": "markdown",
      "metadata": {
        "id": "gzhssiQLTzYe"
      },
      "source": [
        "# Base Model"
      ]
    },
    {
      "cell_type": "code",
      "execution_count": null,
      "metadata": {
        "id": "LQmhR2v9MKqI"
      },
      "outputs": [],
      "source": [
        "class BaseModel(nn.Module):\n",
        "    def __init__(self):\n",
        "        super(BaseModel, self).__init__()\n",
        "        self.encoder = nn.Sequential(\n",
        "            nn.Linear(CFG['HEIGHT']*CFG['WIDTH'], 1024),\n",
        "            nn.BatchNorm1d(1024),\n",
        "            nn.ReLU(), \n",
        "            nn.Linear(1024, 512),\n",
        "            nn.BatchNorm1d(512),\n",
        "            nn.ReLU(),\n",
        "            nn.Linear(512, 256),\n",
        "            nn.BatchNorm1d(256),\n",
        "            nn.ReLU(),\n",
        "            nn.Linear(256, 128),\n",
        "            nn.BatchNorm1d(128),\n",
        "            nn.ReLU(),\n",
        "        )\n",
        "        \n",
        "        self.decoder = nn.Sequential(\n",
        "            nn.Linear(128, 256),\n",
        "            nn.BatchNorm1d(256),\n",
        "            nn.ReLU(),\n",
        "            nn.Linear(256, 512),\n",
        "            nn.BatchNorm1d(512),\n",
        "            nn.ReLU(),\n",
        "            nn.Linear(512, 1024),\n",
        "            nn.BatchNorm1d(1024),\n",
        "            nn.ReLU(),\n",
        "            nn.Linear(1024, CFG['HEIGHT']*CFG['WIDTH']),\n",
        "        )\n",
        "        \n",
        "    def forward(self, x):\n",
        "        x = x.view(-1, CFG['HEIGHT']*CFG['WIDTH'])\n",
        "        x = self.encoder(x)\n",
        "        x = self.decoder(x)\n",
        "        x = x.view(-1, 1, CFG['HEIGHT'], CFG['WIDTH'])\n",
        "        return x"
      ]
    },
    {
      "cell_type": "markdown",
      "metadata": {
        "id": "rbXLyqzTKkQp"
      },
      "source": [
        "# 학습"
      ]
    },
    {
      "cell_type": "code",
      "execution_count": null,
      "metadata": {
        "id": "Iu5oXhfjMMDX"
      },
      "outputs": [],
      "source": [
        "def train(model, optimizer, train_loader, val_loader, scheduler, device, model_num = None):\n",
        "    model.to(device)\n",
        "    criterion = nn.L1Loss().to(device)\n",
        "    best_score = 999999\n",
        "    best_model = None\n",
        "    \n",
        "    for epoch in range(1, 101):\n",
        "        print(optimizer.state_dict)\n",
        "        \n",
        "        model.train()\n",
        "        train_loss = []\n",
        "        cnt = 0\n",
        "        for sem, depth, ed in tqdm(train_loader):\n",
        "\n",
        "            cnt += 1\n",
        "            sem = sem.float().to(device)\n",
        "            depth = depth.float().to(device)\n",
        "            ed = ed.float().to(device)\n",
        "            \n",
        "            optimizer.zero_grad()            \n",
        "            model_pred = model(sem, ed) \n",
        "\n",
        "            loss = criterion(model_pred, depth)\n",
        "            \n",
        "            loss.backward()\n",
        "            optimizer.step()\n",
        "            \n",
        "            train_loss.append(np.sqrt(loss.item()))\n",
        "            if cnt % 200 == 0:\n",
        "                print(\"train loss\", np.mean(train_loss))\n",
        "        if scheduler is not None:\n",
        "            scheduler.step(1)      \n",
        "            \n",
        "        val_loss, val_rmse = validation(model, criterion, val_loader, device)\n",
        "        print(f'Epoch : [{epoch}] Train Loss : [{np.mean(train_loss):.5f}] Val Loss : [{val_loss:.5f}] Val RMSE : [{val_rmse:.5f}]')\n",
        "        \n",
        "        if best_score > val_rmse:\n",
        "            best_score = val_rmse\n",
        "            best_model = model\n",
        "            torch.save(model.state_dict(), PATH)\n",
        "\n",
        "        inference(model, test_loader, device, epoch)\n",
        "        \n",
        "\n",
        "    return best_model"
      ]
    },
    {
      "cell_type": "code",
      "execution_count": null,
      "metadata": {
        "id": "BHD-__h6QZTh"
      },
      "outputs": [],
      "source": [
        "def validation(model, criterion, val_loader, device):\n",
        "    model.eval()\n",
        "    mse = nn.MSELoss().to(device)\n",
        "    \n",
        "    val_loss = []\n",
        "    val_rmse = []\n",
        "    with torch.no_grad():\n",
        "        for sem, depth, ed in tqdm(iter(val_loader)):\n",
        "            sem = sem.float().to(device)\n",
        "            depth = depth.float().to(device)\n",
        "            ed = ed.float().to(device)\n",
        "            \n",
        "            model_pred = model(sem, ed)\n",
        "\n",
        "            loss = criterion(model_pred, depth)\n",
        "            \n",
        "            pred = (model_pred)\n",
        "            true = (depth)\n",
        "            \n",
        "            b_rmse = torch.sqrt(mse(pred, true))\n",
        "            \n",
        "            val_loss.append(np.sqrt(loss.item()))\n",
        "            val_rmse.append(b_rmse.item())\n",
        "\n",
        "    return np.mean(val_loss), np.mean(val_rmse)"
      ]
    },
    {
      "cell_type": "code",
      "execution_count": null,
      "metadata": {
        "id": "nx5qoy-yMNth"
      },
      "outputs": [],
      "source": [
        "# def validation(model, criterion, val_loader, device, model_num = None):\n",
        "#     model.eval()\n",
        "#     rmse = nn.MSELoss().to(device)\n",
        "    \n",
        "#     val_loss = []\n",
        "#     val_mse = []\n",
        "#     pred = np.array([])\n",
        "#     true = np.array([])\n",
        "#     with torch.no_grad():\n",
        "#         for sem, depth in tqdm(iter(val_loader)):\n",
        "#             sem = sem.float().to(device)\n",
        "#             depth = depth.float().to(device)\n",
        "            \n",
        "#             model_pred = model(sem)            \n",
        "#             loss = criterion(model_pred, depth)\n",
        "            \n",
        "#             pred = np.append(pred, model_pred.to('cpu').detach().numpy() * 255.)\n",
        "#             true = np.append(true, depth.to('cpu').detach().numpy() * 255.)\n",
        "            \n",
        "#             val_loss.append(loss.item())\n",
        "        \n",
        "            \n",
        "#         b_rmse = np.sqrt(mean_squared_error(pred, true))\n",
        "\n",
        "#     return np.mean(val_loss), b_rmse"
      ]
    },
    {
      "cell_type": "code",
      "execution_count": null,
      "metadata": {
        "id": "3x1eiM1XyoTj"
      },
      "outputs": [],
      "source": [
        "def get_key(path):\n",
        "    path = os.path.normpath(path)\n",
        "    names = path.split(os.sep)\n",
        "    return f\"{names[-3].lower()}_{names[-2]}\"\n",
        "\n",
        "\n",
        "df_depth = pd.read_csv(\"/2022 Samsung AI Challenge (3D Metrology)/train/average_depth.csv\")\n",
        "table = {k: v for k, v in zip(df_depth[\"0\"].values, df_depth[\"1\"].values)}\n",
        "\n",
        "files = glob.glob(\"/2022 Samsung AI Challenge (3D Metrology)/train/SEM/*/*/*.png\")\n",
        "depth = [table[get_key(file)] for file in files]\n",
        "\n",
        "df_out = pd.DataFrame()\n",
        "df_out[\"path\"] = files\n",
        "df_out[\"depth\"] = depth\n",
        "\n",
        "from sklearn.linear_model import LinearRegression\n",
        "\n",
        "train_depth_mean = []\n",
        "train_sem_mean = []\n",
        "for i in range(df_out.shape[0]):\n",
        "    train_depth_mean.append(df_out.iloc[i, 1])\n",
        "    train_sem_mean.append(np.mean(cv2.imread(df_out.iloc[i, 0])))\n",
        "\n",
        "linear_Regression = LinearRegression()\n",
        "linear_Regression.fit(np.array(train_depth_mean).reshape(-1, 1), np.array(train_sem_mean).reshape(-1, 1))\n",
        "\n",
        "test_sem_mean = []\n",
        "for i in range(len(test_sem_path_list)):\n",
        "    test_sem_mean.append(np.mean(cv2.imread(test_sem_path_list[i])))\n",
        "    "
      ]
    },
    {
      "cell_type": "code",
      "execution_count": null,
      "metadata": {
        "id": "RiWuq4TnA5uJ"
      },
      "outputs": [],
      "source": [
        "def inference(model, test_loader, device, epoch):\n",
        "    model.eval()\n",
        "    \n",
        "    result_name_list = []\n",
        "    result_list = []\n",
        "    with torch.no_grad():\n",
        "        for sem, name, ed in tqdm(iter(test_loader)):\n",
        "            sem = sem.float().to(device)\n",
        "            ed = ed.float().to(device)\n",
        "            \n",
        "            model_pred = model(sem, ed)\n",
        "            \n",
        "\n",
        "            model_pred = model_pred.to('cpu').detach().numpy() * 255.\n",
        "            for pred, img_name in zip(model_pred, name):\n",
        "                save_img_path = f'{img_name}'\n",
        "                #cv2.imwrite(save_img_path, pred)\n",
        "                result_name_list.append(save_img_path)\n",
        "                result_list.append(pred)\n",
        "    \n",
        "    test_vae_depth_mean = []\n",
        "    for i in range(len(result_list)):\n",
        "        test_vae_depth_mean.append(np.mean(result_list[i]))\n",
        "    plt.hist(test_vae_depth_mean, bins = 100)\n",
        "    plt.show()\n",
        "\n",
        "    y_pred = linear_Regression.predict(np.array(test_vae_depth_mean).reshape(-1, 1))\n",
        "    mse = mean_squared_error(test_sem_mean, y_pred)\n",
        "    print(mse)\n",
        "    plt.scatter(test_vae_depth_mean, test_sem_mean, alpha = 0.005)\n",
        "    plt.plot(np.array(test_vae_depth_mean), y_pred, color = 'red')\n",
        "    plt.show()\n",
        "    \n",
        "\n",
        "    os.makedirs('/submission', exist_ok=True)\n",
        "    os.chdir(\"/submission\")\n",
        "    sub_imgs = []\n",
        "    for path, pred_img in zip(result_name_list, result_list):\n",
        "        cv2.imwrite(path, pred_img)\n",
        "        sub_imgs.append(path)\n",
        "    submission = zipfile.ZipFile(\"/\" + str(epoch) + \"_submission.zip\", 'w')\n",
        "    for path in sub_imgs:\n",
        "        submission.write(path)\n",
        "    submission.close()\n"
      ]
    },
    {
      "cell_type": "code",
      "execution_count": null,
      "metadata": {
        "id": "XOUzR5F-oB33"
      },
      "outputs": [],
      "source": [
        "# define a learning rate schedule\n",
        "from torch.optim.lr_scheduler import ReduceLROnPlateau"
      ]
    },
    {
      "cell_type": "code",
      "execution_count": null,
      "metadata": {
        "id": "f0Yoi1Akcxoh"
      },
      "outputs": [],
      "source": [
        "import matplotlib.pyplot as plt\n",
        "\n",
        "PATH = '/content/drive/MyDrive/DACON/Data/resnet18'\n",
        "\n",
        "model = VAE().to(device)\n",
        "# model.load_state_dict(torch.load(PATH))\n",
        "\n",
        "model.eval()\n",
        "lr = 5e-5\n",
        "\n",
        "optimizer = torch.optim.Adam(params = model.parameters(), lr = lr)\n",
        "\n",
        "\n",
        "lr_scheduler = ReduceLROnPlateau(optimizer, mode='min', factor=0.7, patience = 3,  verbose=1)\n",
        "\n",
        "\n",
        "infer_model = train(model, optimizer, train_loader, val_loader, lr_scheduler, device)"
      ]
    },
    {
      "cell_type": "code",
      "source": [
        "zipfile.ZipFile('/45_submission.zip','r').extractall('/ababab')"
      ],
      "metadata": {
        "id": "4KlWP_K5UmQ1"
      },
      "execution_count": null,
      "outputs": []
    },
    {
      "cell_type": "code",
      "source": [
        "result_list = []\n",
        "for i in sorted(glob.glob('/ababab/*')):\n",
        "    result_list.append(cv2.imread(i))"
      ],
      "metadata": {
        "id": "XbLmjU5YdOUW"
      },
      "execution_count": null,
      "outputs": []
    },
    {
      "cell_type": "code",
      "source": [
        "    result_name_list = []\n",
        "    with torch.no_grad():\n",
        "        for sem, name, ed in tqdm(iter(test_loader)):\n",
        "            sem = sem.float().to(device)\n",
        "            ed = ed.float().to(device)\n",
        "            \n",
        "            for img_name in name:\n",
        "                save_img_path = f'{img_name}'\n",
        "                #cv2.imwrite(save_img_path, pred)\n",
        "                result_name_list.append(save_img_path)    \n"
      ],
      "metadata": {
        "colab": {
          "base_uri": "https://localhost:8080/",
          "height": 49,
          "referenced_widgets": [
            "f6e3065a65d54fb486f37e044aa99170",
            "90cee93fde424845a09afa463738de17",
            "4956f1ebe1fd4e2b8c8093aa09d0d74f",
            "6c505953d7244b9e85a866928ed496dd",
            "3435a3837a8e49c9a04017d7b87dbf66",
            "b1de19407ead4089a0996a1247f124dc",
            "7110ba18b0fa417f9492c1cb2b86b393",
            "48512c8727a04d7389407412bdac24b5",
            "be2a8d73bb884668a9f6e23e537182ca",
            "2938400db9b240a98e13fa7952c67a1e",
            "c7e84857f6054b2aa987161569af68b5"
          ]
        },
        "id": "O_MrN_rEP7G-",
        "outputId": "6a30652e-ce83-4bb3-96b5-76ad1671ee65"
      },
      "execution_count": null,
      "outputs": [
        {
          "output_type": "display_data",
          "data": {
            "text/plain": [
              "  0%|          | 0/407 [00:00<?, ?it/s]"
            ],
            "application/vnd.jupyter.widget-view+json": {
              "version_major": 2,
              "version_minor": 0,
              "model_id": "f6e3065a65d54fb486f37e044aa99170"
            }
          },
          "metadata": {}
        }
      ]
    },
    {
      "cell_type": "code",
      "execution_count": null,
      "metadata": {
        "id": "8ubBJjx80qZS"
      },
      "outputs": [],
      "source": [
        "idx_1 = np.where(np.array(test_edge) == 0)[0]\n",
        "idx_2 = np.where(np.array(test_edge) == 1)[0]\n",
        "idx_3 = np.where(np.array(test_edge) == 2)[0]\n",
        "idx_4 = np.where(np.array(test_edge) == 3)[0]"
      ]
    },
    {
      "cell_type": "code",
      "execution_count": null,
      "metadata": {
        "colab": {
          "base_uri": "https://localhost:8080/",
          "height": 563,
          "referenced_widgets": [
            "b3a033ba21084917ac59c247c962f8d2",
            "977d9667f26d4fbc8892bec7de2eb5b1",
            "a120c9c40e274dadb5eaaffff84f7939",
            "a1d551bdce7647e1b33bfcf6e74c0367",
            "fc5414f775024ba0a59c0c6f745a5f30",
            "ce5892b6c36e476396e7a98b61e1742d",
            "bc13f62f589d4585b972cfae3b408b5d",
            "3e88eb3f2c9e410abffb2e674d36e27e",
            "18f53ee10a744b9098b7d9f0878cd532",
            "eba66d961125441caa0b2413594dfa2e",
            "9cf2ce36604348ed944124646325d710"
          ]
        },
        "id": "h18fT8yS0dAN",
        "outputId": "b282d71e-8a17-4820-f71b-1c262bd2fa96"
      },
      "outputs": [
        {
          "output_type": "display_data",
          "data": {
            "text/plain": [
              "  0%|          | 0/25988 [00:00<?, ?it/s]"
            ],
            "application/vnd.jupyter.widget-view+json": {
              "version_major": 2,
              "version_minor": 0,
              "model_id": "b3a033ba21084917ac59c247c962f8d2"
            }
          },
          "metadata": {}
        },
        {
          "output_type": "display_data",
          "data": {
            "text/plain": [
              "<Figure size 432x288 with 1 Axes>"
            ],
            "image/png": "[encoded data removed]"
          },
          "metadata": {
            "needs_background": "light"
          }
        },
        {
          "output_type": "stream",
          "name": "stdout",
          "text": [
            "6.238080109865929\n"
          ]
        },
        {
          "output_type": "display_data",
          "data": {
            "text/plain": [
              "<Figure size 432x288 with 1 Axes>"
            ],
            "image/png": "[encoded data removed]"
          },
          "metadata": {
            "needs_background": "light"
          }
        }
      ],
      "source": [
        "new_result_list = []\n",
        "\n",
        "tmp_result_list = np.array(result_list).copy()\n",
        "for i in tqdm(range(len(tmp_result_list))):\n",
        "    if i in idx_1:\n",
        "        img = tmp_result_list[i]\n",
        "        new_result_list.append(img)\n",
        "\n",
        "    elif i in idx_2:\n",
        "        img = tmp_result_list[i]\n",
        "        img[img < 140] += 8\n",
        "        new_result_list.append(img)\n",
        "\n",
        "    elif i in idx_3:\n",
        "        img = tmp_result_list[i]\n",
        "        img[img < 159] += 13\n",
        "        new_result_list.append(img)\n",
        "\n",
        "    else:\n",
        "        img = tmp_result_list[i]\n",
        "        img[img < 160] += 17\n",
        "        new_result_list.append(img)        \n",
        "\n",
        "test_vae_depth_mean = []\n",
        "for i in range(len(result_list)):\n",
        "    test_vae_depth_mean.append(np.mean(new_result_list[i]))\n",
        "plt.hist(test_vae_depth_mean, bins = 100)\n",
        "plt.show()\n",
        "y_pred = linear_Regression.predict(np.array(test_vae_depth_mean).reshape(-1, 1))\n",
        "mse = mean_squared_error(test_sem_mean, y_pred)\n",
        "print(mse)\n",
        "plt.scatter(test_vae_depth_mean, test_sem_mean, alpha = 0.005)\n",
        "plt.plot(np.array(test_vae_depth_mean), y_pred, color = 'red')\n",
        "plt.show()\n",
        "\n",
        "os.makedirs('/submission', exist_ok=True)\n",
        "os.chdir(\"/submission\")\n",
        "sub_imgs = []\n",
        "for path, pred_img in zip(result_name_list, result_list):\n",
        "    cv2.imwrite(path, pred_img)\n",
        "    sub_imgs.append(path)\n",
        "submission = zipfile.ZipFile(\"/\" + \"1113\" + \"_submission.zip\", 'w')\n",
        "for path in sub_imgs:\n",
        "    submission.write(path)\n",
        "submission.close()"
      ]
    }
  ],
  "metadata": {
    "accelerator": "GPU",
    "colab": {
      "collapsed_sections": [
        "-61RMCb9w9W4",
        "uAMWJXAWeXVz",
        "_JJ38sm8eXST",
        "2IoUA8TYsJBb",
        "g6KKiphn_nfX",
        "5ue8A5JRMJTw",
        "gzhssiQLTzYe",
        "rbXLyqzTKkQp"
      ],
      "machine_shape": "hm",
      "provenance": [],
      "authorship_tag": "ABX9TyMncslHN1bfOm/swdVUbbAh",
      "include_colab_link": true
    },
    "gpuClass": "standard",
    "kernelspec": {
      "display_name": "Python 3",
      "name": "python3"
    },
    "language_info": {
      "name": "python"
    },
    "widgets": {
      "application/vnd.jupyter.widget-state+json": {
        "59170b7e1c674909b5534e2cec0f93ff": {
          "model_module": "@jupyter-widgets/controls",
          "model_name": "HBoxModel",
          "model_module_version": "1.5.0",
          "state": {
            "_dom_classes": [],
            "_model_module": "@jupyter-widgets/controls",
            "_model_module_version": "1.5.0",
            "_model_name": "HBoxModel",
            "_view_count": null,
            "_view_module": "@jupyter-widgets/controls",
            "_view_module_version": "1.5.0",
            "_view_name": "HBoxView",
            "box_style": "",
            "children": [
              "IPY_MODEL_c7c35fd6b801434198af592b73718c40",
              "IPY_MODEL_9c4a2a1f45e64f9cbf0b79da71d11e79",
              "IPY_MODEL_f41585ec7b294cca9a7cc37dd96337ff"
            ],
            "layout": "IPY_MODEL_4ab3f0ff43ac405891d9ce1f72dfd568"
          }
        },
        "c7c35fd6b801434198af592b73718c40": {
          "model_module": "@jupyter-widgets/controls",
          "model_name": "HTMLModel",
          "model_module_version": "1.5.0",
          "state": {
            "_dom_classes": [],
            "_model_module": "@jupyter-widgets/controls",
            "_model_module_version": "1.5.0",
            "_model_name": "HTMLModel",
            "_view_count": null,
            "_view_module": "@jupyter-widgets/controls",
            "_view_module_version": "1.5.0",
            "_view_name": "HTMLView",
            "description": "",
            "description_tooltip": null,
            "layout": "IPY_MODEL_36c9ae3c77cf4e06b26888d7456e1603",
            "placeholder": "​",
            "style": "IPY_MODEL_94be641c44ee42fda2a4052b88ab8eff",
            "value": "100%"
          }
        },
        "9c4a2a1f45e64f9cbf0b79da71d11e79": {
          "model_module": "@jupyter-widgets/controls",
          "model_name": "FloatProgressModel",
          "model_module_version": "1.5.0",
          "state": {
            "_dom_classes": [],
            "_model_module": "@jupyter-widgets/controls",
            "_model_module_version": "1.5.0",
            "_model_name": "FloatProgressModel",
            "_view_count": null,
            "_view_module": "@jupyter-widgets/controls",
            "_view_module_version": "1.5.0",
            "_view_name": "ProgressView",
            "bar_style": "success",
            "description": "",
            "description_tooltip": null,
            "layout": "IPY_MODEL_9d31e760e5be43669c8ff7c35f79d2d3",
            "max": 204,
            "min": 0,
            "orientation": "horizontal",
            "style": "IPY_MODEL_6c2212a78a8944a0b95d65d9cddf2a0c",
            "value": 204
          }
        },
        "f41585ec7b294cca9a7cc37dd96337ff": {
          "model_module": "@jupyter-widgets/controls",
          "model_name": "HTMLModel",
          "model_module_version": "1.5.0",
          "state": {
            "_dom_classes": [],
            "_model_module": "@jupyter-widgets/controls",
            "_model_module_version": "1.5.0",
            "_model_name": "HTMLModel",
            "_view_count": null,
            "_view_module": "@jupyter-widgets/controls",
            "_view_module_version": "1.5.0",
            "_view_name": "HTMLView",
            "description": "",
            "description_tooltip": null,
            "layout": "IPY_MODEL_b5cf6933e7bc4db493485e4013844e76",
            "placeholder": "​",
            "style": "IPY_MODEL_c237eed94c84403cb4bdae4c108e151e",
            "value": " 204/204 [00:12&lt;00:00, 12.81it/s]"
          }
        },
        "4ab3f0ff43ac405891d9ce1f72dfd568": {
          "model_module": "@jupyter-widgets/base",
          "model_name": "LayoutModel",
          "model_module_version": "1.2.0",
          "state": {
            "_model_module": "@jupyter-widgets/base",
            "_model_module_version": "1.2.0",
            "_model_name": "LayoutModel",
            "_view_count": null,
            "_view_module": "@jupyter-widgets/base",
            "_view_module_version": "1.2.0",
            "_view_name": "LayoutView",
            "align_content": null,
            "align_items": null,
            "align_self": null,
            "border": null,
            "bottom": null,
            "display": null,
            "flex": null,
            "flex_flow": null,
            "grid_area": null,
            "grid_auto_columns": null,
            "grid_auto_flow": null,
            "grid_auto_rows": null,
            "grid_column": null,
            "grid_gap": null,
            "grid_row": null,
            "grid_template_areas": null,
            "grid_template_columns": null,
            "grid_template_rows": null,
            "height": null,
            "justify_content": null,
            "justify_items": null,
            "left": null,
            "margin": null,
            "max_height": null,
            "max_width": null,
            "min_height": null,
            "min_width": null,
            "object_fit": null,
            "object_position": null,
            "order": null,
            "overflow": null,
            "overflow_x": null,
            "overflow_y": null,
            "padding": null,
            "right": null,
            "top": null,
            "visibility": null,
            "width": null
          }
        },
        "36c9ae3c77cf4e06b26888d7456e1603": {
          "model_module": "@jupyter-widgets/base",
          "model_name": "LayoutModel",
          "model_module_version": "1.2.0",
          "state": {
            "_model_module": "@jupyter-widgets/base",
            "_model_module_version": "1.2.0",
            "_model_name": "LayoutModel",
            "_view_count": null,
            "_view_module": "@jupyter-widgets/base",
            "_view_module_version": "1.2.0",
            "_view_name": "LayoutView",
            "align_content": null,
            "align_items": null,
            "align_self": null,
            "border": null,
            "bottom": null,
            "display": null,
            "flex": null,
            "flex_flow": null,
            "grid_area": null,
            "grid_auto_columns": null,
            "grid_auto_flow": null,
            "grid_auto_rows": null,
            "grid_column": null,
            "grid_gap": null,
            "grid_row": null,
            "grid_template_areas": null,
            "grid_template_columns": null,
            "grid_template_rows": null,
            "height": null,
            "justify_content": null,
            "justify_items": null,
            "left": null,
            "margin": null,
            "max_height": null,
            "max_width": null,
            "min_height": null,
            "min_width": null,
            "object_fit": null,
            "object_position": null,
            "order": null,
            "overflow": null,
            "overflow_x": null,
            "overflow_y": null,
            "padding": null,
            "right": null,
            "top": null,
            "visibility": null,
            "width": null
          }
        },
        "94be641c44ee42fda2a4052b88ab8eff": {
          "model_module": "@jupyter-widgets/controls",
          "model_name": "DescriptionStyleModel",
          "model_module_version": "1.5.0",
          "state": {
            "_model_module": "@jupyter-widgets/controls",
            "_model_module_version": "1.5.0",
            "_model_name": "DescriptionStyleModel",
            "_view_count": null,
            "_view_module": "@jupyter-widgets/base",
            "_view_module_version": "1.2.0",
            "_view_name": "StyleView",
            "description_width": ""
          }
        },
        "9d31e760e5be43669c8ff7c35f79d2d3": {
          "model_module": "@jupyter-widgets/base",
          "model_name": "LayoutModel",
          "model_module_version": "1.2.0",
          "state": {
            "_model_module": "@jupyter-widgets/base",
            "_model_module_version": "1.2.0",
            "_model_name": "LayoutModel",
            "_view_count": null,
            "_view_module": "@jupyter-widgets/base",
            "_view_module_version": "1.2.0",
            "_view_name": "LayoutView",
            "align_content": null,
            "align_items": null,
            "align_self": null,
            "border": null,
            "bottom": null,
            "display": null,
            "flex": null,
            "flex_flow": null,
            "grid_area": null,
            "grid_auto_columns": null,
            "grid_auto_flow": null,
            "grid_auto_rows": null,
            "grid_column": null,
            "grid_gap": null,
            "grid_row": null,
            "grid_template_areas": null,
            "grid_template_columns": null,
            "grid_template_rows": null,
            "height": null,
            "justify_content": null,
            "justify_items": null,
            "left": null,
            "margin": null,
            "max_height": null,
            "max_width": null,
            "min_height": null,
            "min_width": null,
            "object_fit": null,
            "object_position": null,
            "order": null,
            "overflow": null,
            "overflow_x": null,
            "overflow_y": null,
            "padding": null,
            "right": null,
            "top": null,
            "visibility": null,
            "width": null
          }
        },
        "6c2212a78a8944a0b95d65d9cddf2a0c": {
          "model_module": "@jupyter-widgets/controls",
          "model_name": "ProgressStyleModel",
          "model_module_version": "1.5.0",
          "state": {
            "_model_module": "@jupyter-widgets/controls",
            "_model_module_version": "1.5.0",
            "_model_name": "ProgressStyleModel",
            "_view_count": null,
            "_view_module": "@jupyter-widgets/base",
            "_view_module_version": "1.2.0",
            "_view_name": "StyleView",
            "bar_color": null,
            "description_width": ""
          }
        },
        "b5cf6933e7bc4db493485e4013844e76": {
          "model_module": "@jupyter-widgets/base",
          "model_name": "LayoutModel",
          "model_module_version": "1.2.0",
          "state": {
            "_model_module": "@jupyter-widgets/base",
            "_model_module_version": "1.2.0",
            "_model_name": "LayoutModel",
            "_view_count": null,
            "_view_module": "@jupyter-widgets/base",
            "_view_module_version": "1.2.0",
            "_view_name": "LayoutView",
            "align_content": null,
            "align_items": null,
            "align_self": null,
            "border": null,
            "bottom": null,
            "display": null,
            "flex": null,
            "flex_flow": null,
            "grid_area": null,
            "grid_auto_columns": null,
            "grid_auto_flow": null,
            "grid_auto_rows": null,
            "grid_column": null,
            "grid_gap": null,
            "grid_row": null,
            "grid_template_areas": null,
            "grid_template_columns": null,
            "grid_template_rows": null,
            "height": null,
            "justify_content": null,
            "justify_items": null,
            "left": null,
            "margin": null,
            "max_height": null,
            "max_width": null,
            "min_height": null,
            "min_width": null,
            "object_fit": null,
            "object_position": null,
            "order": null,
            "overflow": null,
            "overflow_x": null,
            "overflow_y": null,
            "padding": null,
            "right": null,
            "top": null,
            "visibility": null,
            "width": null
          }
        },
        "c237eed94c84403cb4bdae4c108e151e": {
          "model_module": "@jupyter-widgets/controls",
          "model_name": "DescriptionStyleModel",
          "model_module_version": "1.5.0",
          "state": {
            "_model_module": "@jupyter-widgets/controls",
            "_model_module_version": "1.5.0",
            "_model_name": "DescriptionStyleModel",
            "_view_count": null,
            "_view_module": "@jupyter-widgets/base",
            "_view_module_version": "1.2.0",
            "_view_name": "StyleView",
            "description_width": ""
          }
        },
        "f6e3065a65d54fb486f37e044aa99170": {
          "model_module": "@jupyter-widgets/controls",
          "model_name": "HBoxModel",
          "model_module_version": "1.5.0",
          "state": {
            "_dom_classes": [],
            "_model_module": "@jupyter-widgets/controls",
            "_model_module_version": "1.5.0",
            "_model_name": "HBoxModel",
            "_view_count": null,
            "_view_module": "@jupyter-widgets/controls",
            "_view_module_version": "1.5.0",
            "_view_name": "HBoxView",
            "box_style": "",
            "children": [
              "IPY_MODEL_90cee93fde424845a09afa463738de17",
              "IPY_MODEL_4956f1ebe1fd4e2b8c8093aa09d0d74f",
              "IPY_MODEL_6c505953d7244b9e85a866928ed496dd"
            ],
            "layout": "IPY_MODEL_3435a3837a8e49c9a04017d7b87dbf66"
          }
        },
        "90cee93fde424845a09afa463738de17": {
          "model_module": "@jupyter-widgets/controls",
          "model_name": "HTMLModel",
          "model_module_version": "1.5.0",
          "state": {
            "_dom_classes": [],
            "_model_module": "@jupyter-widgets/controls",
            "_model_module_version": "1.5.0",
            "_model_name": "HTMLModel",
            "_view_count": null,
            "_view_module": "@jupyter-widgets/controls",
            "_view_module_version": "1.5.0",
            "_view_name": "HTMLView",
            "description": "",
            "description_tooltip": null,
            "layout": "IPY_MODEL_b1de19407ead4089a0996a1247f124dc",
            "placeholder": "​",
            "style": "IPY_MODEL_7110ba18b0fa417f9492c1cb2b86b393",
            "value": "100%"
          }
        },
        "4956f1ebe1fd4e2b8c8093aa09d0d74f": {
          "model_module": "@jupyter-widgets/controls",
          "model_name": "FloatProgressModel",
          "model_module_version": "1.5.0",
          "state": {
            "_dom_classes": [],
            "_model_module": "@jupyter-widgets/controls",
            "_model_module_version": "1.5.0",
            "_model_name": "FloatProgressModel",
            "_view_count": null,
            "_view_module": "@jupyter-widgets/controls",
            "_view_module_version": "1.5.0",
            "_view_name": "ProgressView",
            "bar_style": "success",
            "description": "",
            "description_tooltip": null,
            "layout": "IPY_MODEL_48512c8727a04d7389407412bdac24b5",
            "max": 407,
            "min": 0,
            "orientation": "horizontal",
            "style": "IPY_MODEL_be2a8d73bb884668a9f6e23e537182ca",
            "value": 407
          }
        },
        "6c505953d7244b9e85a866928ed496dd": {
          "model_module": "@jupyter-widgets/controls",
          "model_name": "HTMLModel",
          "model_module_version": "1.5.0",
          "state": {
            "_dom_classes": [],
            "_model_module": "@jupyter-widgets/controls",
            "_model_module_version": "1.5.0",
            "_model_name": "HTMLModel",
            "_view_count": null,
            "_view_module": "@jupyter-widgets/controls",
            "_view_module_version": "1.5.0",
            "_view_name": "HTMLView",
            "description": "",
            "description_tooltip": null,
            "layout": "IPY_MODEL_2938400db9b240a98e13fa7952c67a1e",
            "placeholder": "​",
            "style": "IPY_MODEL_c7e84857f6054b2aa987161569af68b5",
            "value": " 407/407 [00:02&lt;00:00, 156.21it/s]"
          }
        },
        "3435a3837a8e49c9a04017d7b87dbf66": {
          "model_module": "@jupyter-widgets/base",
          "model_name": "LayoutModel",
          "model_module_version": "1.2.0",
          "state": {
            "_model_module": "@jupyter-widgets/base",
            "_model_module_version": "1.2.0",
            "_model_name": "LayoutModel",
            "_view_count": null,
            "_view_module": "@jupyter-widgets/base",
            "_view_module_version": "1.2.0",
            "_view_name": "LayoutView",
            "align_content": null,
            "align_items": null,
            "align_self": null,
            "border": null,
            "bottom": null,
            "display": null,
            "flex": null,
            "flex_flow": null,
            "grid_area": null,
            "grid_auto_columns": null,
            "grid_auto_flow": null,
            "grid_auto_rows": null,
            "grid_column": null,
            "grid_gap": null,
            "grid_row": null,
            "grid_template_areas": null,
            "grid_template_columns": null,
            "grid_template_rows": null,
            "height": null,
            "justify_content": null,
            "justify_items": null,
            "left": null,
            "margin": null,
            "max_height": null,
            "max_width": null,
            "min_height": null,
            "min_width": null,
            "object_fit": null,
            "object_position": null,
            "order": null,
            "overflow": null,
            "overflow_x": null,
            "overflow_y": null,
            "padding": null,
            "right": null,
            "top": null,
            "visibility": null,
            "width": null
          }
        },
        "b1de19407ead4089a0996a1247f124dc": {
          "model_module": "@jupyter-widgets/base",
          "model_name": "LayoutModel",
          "model_module_version": "1.2.0",
          "state": {
            "_model_module": "@jupyter-widgets/base",
            "_model_module_version": "1.2.0",
            "_model_name": "LayoutModel",
            "_view_count": null,
            "_view_module": "@jupyter-widgets/base",
            "_view_module_version": "1.2.0",
            "_view_name": "LayoutView",
            "align_content": null,
            "align_items": null,
            "align_self": null,
            "border": null,
            "bottom": null,
            "display": null,
            "flex": null,
            "flex_flow": null,
            "grid_area": null,
            "grid_auto_columns": null,
            "grid_auto_flow": null,
            "grid_auto_rows": null,
            "grid_column": null,
            "grid_gap": null,
            "grid_row": null,
            "grid_template_areas": null,
            "grid_template_columns": null,
            "grid_template_rows": null,
            "height": null,
            "justify_content": null,
            "justify_items": null,
            "left": null,
            "margin": null,
            "max_height": null,
            "max_width": null,
            "min_height": null,
            "min_width": null,
            "object_fit": null,
            "object_position": null,
            "order": null,
            "overflow": null,
            "overflow_x": null,
            "overflow_y": null,
            "padding": null,
            "right": null,
            "top": null,
            "visibility": null,
            "width": null
          }
        },
        "7110ba18b0fa417f9492c1cb2b86b393": {
          "model_module": "@jupyter-widgets/controls",
          "model_name": "DescriptionStyleModel",
          "model_module_version": "1.5.0",
          "state": {
            "_model_module": "@jupyter-widgets/controls",
            "_model_module_version": "1.5.0",
            "_model_name": "DescriptionStyleModel",
            "_view_count": null,
            "_view_module": "@jupyter-widgets/base",
            "_view_module_version": "1.2.0",
            "_view_name": "StyleView",
            "description_width": ""
          }
        },
        "48512c8727a04d7389407412bdac24b5": {
          "model_module": "@jupyter-widgets/base",
          "model_name": "LayoutModel",
          "model_module_version": "1.2.0",
          "state": {
            "_model_module": "@jupyter-widgets/base",
            "_model_module_version": "1.2.0",
            "_model_name": "LayoutModel",
            "_view_count": null,
            "_view_module": "@jupyter-widgets/base",
            "_view_module_version": "1.2.0",
            "_view_name": "LayoutView",
            "align_content": null,
            "align_items": null,
            "align_self": null,
            "border": null,
            "bottom": null,
            "display": null,
            "flex": null,
            "flex_flow": null,
            "grid_area": null,
            "grid_auto_columns": null,
            "grid_auto_flow": null,
            "grid_auto_rows": null,
            "grid_column": null,
            "grid_gap": null,
            "grid_row": null,
            "grid_template_areas": null,
            "grid_template_columns": null,
            "grid_template_rows": null,
            "height": null,
            "justify_content": null,
            "justify_items": null,
            "left": null,
            "margin": null,
            "max_height": null,
            "max_width": null,
            "min_height": null,
            "min_width": null,
            "object_fit": null,
            "object_position": null,
            "order": null,
            "overflow": null,
            "overflow_x": null,
            "overflow_y": null,
            "padding": null,
            "right": null,
            "top": null,
            "visibility": null,
            "width": null
          }
        },
        "be2a8d73bb884668a9f6e23e537182ca": {
          "model_module": "@jupyter-widgets/controls",
          "model_name": "ProgressStyleModel",
          "model_module_version": "1.5.0",
          "state": {
            "_model_module": "@jupyter-widgets/controls",
            "_model_module_version": "1.5.0",
            "_model_name": "ProgressStyleModel",
            "_view_count": null,
            "_view_module": "@jupyter-widgets/base",
            "_view_module_version": "1.2.0",
            "_view_name": "StyleView",
            "bar_color": null,
            "description_width": ""
          }
        },
        "2938400db9b240a98e13fa7952c67a1e": {
          "model_module": "@jupyter-widgets/base",
          "model_name": "LayoutModel",
          "model_module_version": "1.2.0",
          "state": {
            "_model_module": "@jupyter-widgets/base",
            "_model_module_version": "1.2.0",
            "_model_name": "LayoutModel",
            "_view_count": null,
            "_view_module": "@jupyter-widgets/base",
            "_view_module_version": "1.2.0",
            "_view_name": "LayoutView",
            "align_content": null,
            "align_items": null,
            "align_self": null,
            "border": null,
            "bottom": null,
            "display": null,
            "flex": null,
            "flex_flow": null,
            "grid_area": null,
            "grid_auto_columns": null,
            "grid_auto_flow": null,
            "grid_auto_rows": null,
            "grid_column": null,
            "grid_gap": null,
            "grid_row": null,
            "grid_template_areas": null,
            "grid_template_columns": null,
            "grid_template_rows": null,
            "height": null,
            "justify_content": null,
            "justify_items": null,
            "left": null,
            "margin": null,
            "max_height": null,
            "max_width": null,
            "min_height": null,
            "min_width": null,
            "object_fit": null,
            "object_position": null,
            "order": null,
            "overflow": null,
            "overflow_x": null,
            "overflow_y": null,
            "padding": null,
            "right": null,
            "top": null,
            "visibility": null,
            "width": null
          }
        },
        "c7e84857f6054b2aa987161569af68b5": {
          "model_module": "@jupyter-widgets/controls",
          "model_name": "DescriptionStyleModel",
          "model_module_version": "1.5.0",
          "state": {
            "_model_module": "@jupyter-widgets/controls",
            "_model_module_version": "1.5.0",
            "_model_name": "DescriptionStyleModel",
            "_view_count": null,
            "_view_module": "@jupyter-widgets/base",
            "_view_module_version": "1.2.0",
            "_view_name": "StyleView",
            "description_width": ""
          }
        },
        "b3a033ba21084917ac59c247c962f8d2": {
          "model_module": "@jupyter-widgets/controls",
          "model_name": "HBoxModel",
          "model_module_version": "1.5.0",
          "state": {
            "_dom_classes": [],
            "_model_module": "@jupyter-widgets/controls",
            "_model_module_version": "1.5.0",
            "_model_name": "HBoxModel",
            "_view_count": null,
            "_view_module": "@jupyter-widgets/controls",
            "_view_module_version": "1.5.0",
            "_view_name": "HBoxView",
            "box_style": "",
            "children": [
              "IPY_MODEL_977d9667f26d4fbc8892bec7de2eb5b1",
              "IPY_MODEL_a120c9c40e274dadb5eaaffff84f7939",
              "IPY_MODEL_a1d551bdce7647e1b33bfcf6e74c0367"
            ],
            "layout": "IPY_MODEL_fc5414f775024ba0a59c0c6f745a5f30"
          }
        },
        "977d9667f26d4fbc8892bec7de2eb5b1": {
          "model_module": "@jupyter-widgets/controls",
          "model_name": "HTMLModel",
          "model_module_version": "1.5.0",
          "state": {
            "_dom_classes": [],
            "_model_module": "@jupyter-widgets/controls",
            "_model_module_version": "1.5.0",
            "_model_name": "HTMLModel",
            "_view_count": null,
            "_view_module": "@jupyter-widgets/controls",
            "_view_module_version": "1.5.0",
            "_view_name": "HTMLView",
            "description": "",
            "description_tooltip": null,
            "layout": "IPY_MODEL_ce5892b6c36e476396e7a98b61e1742d",
            "placeholder": "​",
            "style": "IPY_MODEL_bc13f62f589d4585b972cfae3b408b5d",
            "value": "100%"
          }
        },
        "a120c9c40e274dadb5eaaffff84f7939": {
          "model_module": "@jupyter-widgets/controls",
          "model_name": "FloatProgressModel",
          "model_module_version": "1.5.0",
          "state": {
            "_dom_classes": [],
            "_model_module": "@jupyter-widgets/controls",
            "_model_module_version": "1.5.0",
            "_model_name": "FloatProgressModel",
            "_view_count": null,
            "_view_module": "@jupyter-widgets/controls",
            "_view_module_version": "1.5.0",
            "_view_name": "ProgressView",
            "bar_style": "success",
            "description": "",
            "description_tooltip": null,
            "layout": "IPY_MODEL_3e88eb3f2c9e410abffb2e674d36e27e",
            "max": 25988,
            "min": 0,
            "orientation": "horizontal",
            "style": "IPY_MODEL_18f53ee10a744b9098b7d9f0878cd532",
            "value": 25988
          }
        },
        "a1d551bdce7647e1b33bfcf6e74c0367": {
          "model_module": "@jupyter-widgets/controls",
          "model_name": "HTMLModel",
          "model_module_version": "1.5.0",
          "state": {
            "_dom_classes": [],
            "_model_module": "@jupyter-widgets/controls",
            "_model_module_version": "1.5.0",
            "_model_name": "HTMLModel",
            "_view_count": null,
            "_view_module": "@jupyter-widgets/controls",
            "_view_module_version": "1.5.0",
            "_view_name": "HTMLView",
            "description": "",
            "description_tooltip": null,
            "layout": "IPY_MODEL_eba66d961125441caa0b2413594dfa2e",
            "placeholder": "​",
            "style": "IPY_MODEL_9cf2ce36604348ed944124646325d710",
            "value": " 25988/25988 [00:00&lt;00:00, 28334.60it/s]"
          }
        },
        "fc5414f775024ba0a59c0c6f745a5f30": {
          "model_module": "@jupyter-widgets/base",
          "model_name": "LayoutModel",
          "model_module_version": "1.2.0",
          "state": {
            "_model_module": "@jupyter-widgets/base",
            "_model_module_version": "1.2.0",
            "_model_name": "LayoutModel",
            "_view_count": null,
            "_view_module": "@jupyter-widgets/base",
            "_view_module_version": "1.2.0",
            "_view_name": "LayoutView",
            "align_content": null,
            "align_items": null,
            "align_self": null,
            "border": null,
            "bottom": null,
            "display": null,
            "flex": null,
            "flex_flow": null,
            "grid_area": null,
            "grid_auto_columns": null,
            "grid_auto_flow": null,
            "grid_auto_rows": null,
            "grid_column": null,
            "grid_gap": null,
            "grid_row": null,
            "grid_template_areas": null,
            "grid_template_columns": null,
            "grid_template_rows": null,
            "height": null,
            "justify_content": null,
            "justify_items": null,
            "left": null,
            "margin": null,
            "max_height": null,
            "max_width": null,
            "min_height": null,
            "min_width": null,
            "object_fit": null,
            "object_position": null,
            "order": null,
            "overflow": null,
            "overflow_x": null,
            "overflow_y": null,
            "padding": null,
            "right": null,
            "top": null,
            "visibility": null,
            "width": null
          }
        },
        "ce5892b6c36e476396e7a98b61e1742d": {
          "model_module": "@jupyter-widgets/base",
          "model_name": "LayoutModel",
          "model_module_version": "1.2.0",
          "state": {
            "_model_module": "@jupyter-widgets/base",
            "_model_module_version": "1.2.0",
            "_model_name": "LayoutModel",
            "_view_count": null,
            "_view_module": "@jupyter-widgets/base",
            "_view_module_version": "1.2.0",
            "_view_name": "LayoutView",
            "align_content": null,
            "align_items": null,
            "align_self": null,
            "border": null,
            "bottom": null,
            "display": null,
            "flex": null,
            "flex_flow": null,
            "grid_area": null,
            "grid_auto_columns": null,
            "grid_auto_flow": null,
            "grid_auto_rows": null,
            "grid_column": null,
            "grid_gap": null,
            "grid_row": null,
            "grid_template_areas": null,
            "grid_template_columns": null,
            "grid_template_rows": null,
            "height": null,
            "justify_content": null,
            "justify_items": null,
            "left": null,
            "margin": null,
            "max_height": null,
            "max_width": null,
            "min_height": null,
            "min_width": null,
            "object_fit": null,
            "object_position": null,
            "order": null,
            "overflow": null,
            "overflow_x": null,
            "overflow_y": null,
            "padding": null,
            "right": null,
            "top": null,
            "visibility": null,
            "width": null
          }
        },
        "bc13f62f589d4585b972cfae3b408b5d": {
          "model_module": "@jupyter-widgets/controls",
          "model_name": "DescriptionStyleModel",
          "model_module_version": "1.5.0",
          "state": {
            "_model_module": "@jupyter-widgets/controls",
            "_model_module_version": "1.5.0",
            "_model_name": "DescriptionStyleModel",
            "_view_count": null,
            "_view_module": "@jupyter-widgets/base",
            "_view_module_version": "1.2.0",
            "_view_name": "StyleView",
            "description_width": ""
          }
        },
        "3e88eb3f2c9e410abffb2e674d36e27e": {
          "model_module": "@jupyter-widgets/base",
          "model_name": "LayoutModel",
          "model_module_version": "1.2.0",
          "state": {
            "_model_module": "@jupyter-widgets/base",
            "_model_module_version": "1.2.0",
            "_model_name": "LayoutModel",
            "_view_count": null,
            "_view_module": "@jupyter-widgets/base",
            "_view_module_version": "1.2.0",
            "_view_name": "LayoutView",
            "align_content": null,
            "align_items": null,
            "align_self": null,
            "border": null,
            "bottom": null,
            "display": null,
            "flex": null,
            "flex_flow": null,
            "grid_area": null,
            "grid_auto_columns": null,
            "grid_auto_flow": null,
            "grid_auto_rows": null,
            "grid_column": null,
            "grid_gap": null,
            "grid_row": null,
            "grid_template_areas": null,
            "grid_template_columns": null,
            "grid_template_rows": null,
            "height": null,
            "justify_content": null,
            "justify_items": null,
            "left": null,
            "margin": null,
            "max_height": null,
            "max_width": null,
            "min_height": null,
            "min_width": null,
            "object_fit": null,
            "object_position": null,
            "order": null,
            "overflow": null,
            "overflow_x": null,
            "overflow_y": null,
            "padding": null,
            "right": null,
            "top": null,
            "visibility": null,
            "width": null
          }
        },
        "18f53ee10a744b9098b7d9f0878cd532": {
          "model_module": "@jupyter-widgets/controls",
          "model_name": "ProgressStyleModel",
          "model_module_version": "1.5.0",
          "state": {
            "_model_module": "@jupyter-widgets/controls",
            "_model_module_version": "1.5.0",
            "_model_name": "ProgressStyleModel",
            "_view_count": null,
            "_view_module": "@jupyter-widgets/base",
            "_view_module_version": "1.2.0",
            "_view_name": "StyleView",
            "bar_color": null,
            "description_width": ""
          }
        },
        "eba66d961125441caa0b2413594dfa2e": {
          "model_module": "@jupyter-widgets/base",
          "model_name": "LayoutModel",
          "model_module_version": "1.2.0",
          "state": {
            "_model_module": "@jupyter-widgets/base",
            "_model_module_version": "1.2.0",
            "_model_name": "LayoutModel",
            "_view_count": null,
            "_view_module": "@jupyter-widgets/base",
            "_view_module_version": "1.2.0",
            "_view_name": "LayoutView",
            "align_content": null,
            "align_items": null,
            "align_self": null,
            "border": null,
            "bottom": null,
            "display": null,
            "flex": null,
            "flex_flow": null,
            "grid_area": null,
            "grid_auto_columns": null,
            "grid_auto_flow": null,
            "grid_auto_rows": null,
            "grid_column": null,
            "grid_gap": null,
            "grid_row": null,
            "grid_template_areas": null,
            "grid_template_columns": null,
            "grid_template_rows": null,
            "height": null,
            "justify_content": null,
            "justify_items": null,
            "left": null,
            "margin": null,
            "max_height": null,
            "max_width": null,
            "min_height": null,
            "min_width": null,
            "object_fit": null,
            "object_position": null,
            "order": null,
            "overflow": null,
            "overflow_x": null,
            "overflow_y": null,
            "padding": null,
            "right": null,
            "top": null,
            "visibility": null,
            "width": null
          }
        },
        "9cf2ce36604348ed944124646325d710": {
          "model_module": "@jupyter-widgets/controls",
          "model_name": "DescriptionStyleModel",
          "model_module_version": "1.5.0",
          "state": {
            "_model_module": "@jupyter-widgets/controls",
            "_model_module_version": "1.5.0",
            "_model_name": "DescriptionStyleModel",
            "_view_count": null,
            "_view_module": "@jupyter-widgets/base",
            "_view_module_version": "1.2.0",
            "_view_name": "StyleView",
            "description_width": ""
          }
        }
      }
    }
  },
  "nbformat": 4,
  "nbformat_minor": 0
}